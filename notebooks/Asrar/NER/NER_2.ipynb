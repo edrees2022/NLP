{
  "nbformat": 4,
  "nbformat_minor": 0,
  "metadata": {
    "colab": {
      "provenance": []
    },
    "kernelspec": {
      "name": "python3",
      "display_name": "Python 3"
    },
    "language_info": {
      "name": "python"
    }
  },
  "cells": [
    {
      "cell_type": "code",
      "execution_count": 1,
      "metadata": {
        "colab": {
          "base_uri": "https://localhost:8080/"
        },
        "id": "-GumzEMaD8q8",
        "outputId": "c7d2b5ff-a81f-4311-bf85-030a34e73593"
      },
      "outputs": [
        {
          "output_type": "stream",
          "name": "stdout",
          "text": [
            "Clara PERSON\n",
            "Berkeley GPE\n",
            "California GPE\n"
          ]
        }
      ],
      "source": [
        "import spacy\n",
        "\n",
        "# تحميل نموذج spaCy\n",
        "nlp = spacy.load(\"en_core_web_sm\")\n",
        "\n",
        "# معالجة النص\n",
        "text = \"My name is Clara and I live in Berkeley, California.\"\n",
        "\n",
        "# استخراج الكيانات المسماة\n",
        "entities = nlp(text).ents\n",
        "\n",
        "# طباعة الكيانات المسماة\n",
        "for entity in entities:\n",
        "    print(entity.text, entity.label_)\n"
      ]
    }
  ]
}