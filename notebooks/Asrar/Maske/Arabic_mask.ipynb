{
  "nbformat": 4,
  "nbformat_minor": 0,
  "metadata": {
    "colab": {
      "provenance": []
    },
    "kernelspec": {
      "name": "python3",
      "display_name": "Python 3"
    },
    "language_info": {
      "name": "python"
    }
  },
  "cells": [
    {
      "cell_type": "code",
      "execution_count": 1,
      "metadata": {
        "id": "Dk45S5S4a3_K"
      },
      "outputs": [],
      "source": [
        "from transformers import pipeline"
      ]
    },
    {
      "cell_type": "code",
      "source": [
        "mlm_pipeline = pipeline(\"fill-mask\", model=\"CAMeL-Lab/bert-base-arabic-camelbert-msa\")"
      ],
      "metadata": {
        "colab": {
          "base_uri": "https://localhost:8080/"
        },
        "id": "5vfiDo6oa8d1",
        "outputId": "a0ded4ab-8849-4c49-c50a-1c2bb0ff91c0"
      },
      "execution_count": 3,
      "outputs": [
        {
          "output_type": "stream",
          "name": "stderr",
          "text": [
            "Some weights of the model checkpoint at CAMeL-Lab/bert-base-arabic-camelbert-msa were not used when initializing BertForMaskedLM: ['bert.pooler.dense.bias', 'bert.pooler.dense.weight', 'cls.seq_relationship.bias', 'cls.seq_relationship.weight']\n",
            "- This IS expected if you are initializing BertForMaskedLM from the checkpoint of a model trained on another task or with another architecture (e.g. initializing a BertForSequenceClassification model from a BertForPreTraining model).\n",
            "- This IS NOT expected if you are initializing BertForMaskedLM from the checkpoint of a model that you expect to be exactly identical (initializing a BertForSequenceClassification model from a BertForSequenceClassification model).\n"
          ]
        }
      ]
    },
    {
      "cell_type": "code",
      "source": [
        "masked_sentence =\"من جد وجد ومن زرع [MASK]\"\n",
        "prediction = mlm_pipeline(masked_sentence)\n",
        "print(prediction)"
      ],
      "metadata": {
        "colab": {
          "base_uri": "https://localhost:8080/"
        },
        "id": "TB7eayma_r5m",
        "outputId": "743e668d-50d3-4cd2-e12f-05e50d5d3407"
      },
      "execution_count": 4,
      "outputs": [
        {
          "output_type": "stream",
          "name": "stdout",
          "text": [
            "[{'score': 0.6147007942199707, 'token': 20899, 'token_str': 'حصد', 'sequence': 'من جد وجد ومن زرع حصد'}, {'score': 0.19548651576042175, 'token': 380, 'token_str': '؟', 'sequence': 'من جد وجد ومن زرع ؟'}, {'score': 0.09452614933252335, 'token': 18, 'token_str': '.', 'sequence': 'من جد وجد ومن زرع.'}, {'score': 0.01590121164917946, 'token': 8734, 'token_str': 'زرع', 'sequence': 'من جد وجد ومن زرع زرع'}, {'score': 0.01039446983486414, 'token': 5, 'token_str': '!', 'sequence': 'من جد وجد ومن زرع!'}]\n"
          ]
        }
      ]
    },
    {
      "cell_type": "code",
      "source": [
        "masked_sentence =\"فرنسا [MASK] باريس\"\n",
        "prediction = mlm_pipeline(masked_sentence)\n",
        "print(prediction)\n"
      ],
      "metadata": {
        "colab": {
          "base_uri": "https://localhost:8080/"
        },
        "id": "5TUOOenJbCxs",
        "outputId": "9c753a0b-79b1-4acf-f62f-50a129d2eca2"
      },
      "execution_count": 5,
      "outputs": [
        {
          "output_type": "stream",
          "name": "stdout",
          "text": [
            "[{'score': 0.6901984810829163, 'token': 17, 'token_str': '-', 'sequence': 'فرنسا - باريس'}, {'score': 0.11702524125576019, 'token': 19, 'token_str': '/', 'sequence': 'فرنسا / باريس'}, {'score': 0.030542828142642975, 'token': 14, 'token_str': '*', 'sequence': 'فرنسا * باريس'}, {'score': 0.018182311207056046, 'token': 1912, 'token_str': 'في', 'sequence': 'فرنسا في باريس'}, {'score': 0.011674595065414906, 'token': 30, 'token_str': ':', 'sequence': 'فرنسا : باريس'}]\n"
          ]
        }
      ]
    }
  ]
}