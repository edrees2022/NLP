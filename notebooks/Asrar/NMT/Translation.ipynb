{
  "nbformat": 4,
  "nbformat_minor": 0,
  "metadata": {
    "colab": {
      "provenance": []
    },
    "kernelspec": {
      "name": "python3",
      "display_name": "Python 3"
    },
    "language_info": {
      "name": "python"
    }
  },
  "cells": [
    {
      "cell_type": "code",
      "execution_count": 3,
      "metadata": {
        "id": "Uk5SdrQxKp-g"
      },
      "outputs": [],
      "source": [
        "from transformers import pipeline\n",
        ""
      ]
    },
    {
      "cell_type": "code",
      "source": [
        "Translator = pipeline(\"translation\", model=\"Helsinki-NLP/opus-mt-en-ar\")\n",
        "ArbTranslator = pipeline(\"translation\", model=\"Helsinki-NLP/opus-mt-ar-en\")"
      ],
      "metadata": {
        "id": "5xC98U3XLk20"
      },
      "execution_count": 4,
      "outputs": []
    },
    {
      "cell_type": "code",
      "source": [
        "text = \"This is a sample sentence in English.\"\n",
        "translated_text = Translator(text)[0][\"translation_text\"]\n",
        "print(translated_text)"
      ],
      "metadata": {
        "colab": {
          "base_uri": "https://localhost:8080/"
        },
        "id": "-PE9QZFVLpXs",
        "outputId": "acf0686c-11fb-4c3e-b2d8-a43fdddd2ea5"
      },
      "execution_count": 5,
      "outputs": [
        {
          "output_type": "stream",
          "name": "stdout",
          "text": [
            "هذه هي عينة الجملة باللغة الإنجليزية.\n"
          ]
        }
      ]
    },
    {
      "cell_type": "code",
      "source": [
        "\n",
        "text =[\"translate this sentance from English to Arabic language\",\" also this sentance \",\" The weather is beautiful today\"]\n",
        "Translator(text)"
      ],
      "metadata": {
        "colab": {
          "base_uri": "https://localhost:8080/"
        },
        "id": "QS7_CxaoLyHi",
        "outputId": "dd53818f-fbd6-4a48-9666-10b24c896b2f"
      },
      "execution_count": 6,
      "outputs": [
        {
          "output_type": "execute_result",
          "data": {
            "text/plain": [
              "[{'translation_text': 'ترجم هذه الرسالة من الإنكليزية إلى العربية'},\n",
              " {'translation_text': 'أيضاً هذا المرسَل'},\n",
              " {'translation_text': 'الطقس جميل اليوم'}]"
            ]
          },
          "metadata": {},
          "execution_count": 6
        }
      ]
    },
    {
      "cell_type": "code",
      "source": [
        "text = \"هذه جملة نموذجية باللغة العربية.\"\n",
        "translated_text = ArbTranslator(text)[0][\"translation_text\"]\n",
        "print(translated_text)"
      ],
      "metadata": {
        "colab": {
          "base_uri": "https://localhost:8080/"
        },
        "id": "pkOYuIBzMEvn",
        "outputId": "b36dbe17-c392-4c7e-bfd2-378c6aac1f15"
      },
      "execution_count": 7,
      "outputs": [
        {
          "output_type": "stream",
          "name": "stdout",
          "text": [
            "This is a typical sentence in Arabic.\n"
          ]
        }
      ]
    },
    {
      "cell_type": "code",
      "source": [
        "print(Translator.model.config.max_length)"
      ],
      "metadata": {
        "colab": {
          "base_uri": "https://localhost:8080/"
        },
        "id": "gMQ1m8tnMLIt",
        "outputId": "ae2b81f8-f500-4988-94e0-62eaba1a3c7d"
      },
      "execution_count": 8,
      "outputs": [
        {
          "output_type": "stream",
          "name": "stdout",
          "text": [
            "512\n"
          ]
        }
      ]
    },
    {
      "cell_type": "code",
      "source": [
        "story=[\"\"\"\n",
        "Every day, a small ant used to reach her office early and quickly began working; she was contented with her life.\n",
        "The ant's supervisor, a lion, was the only person to manage all the things on his own and thought that if the ant can create so much without supervision, wouldn't she be able to do a little extra work?\n",
        "As a result, the lion enlisted the help of a cockroach with significant supervisory experience and a reputation for producing good reports.\n",
        "\"\"\",\"\"\"\n",
        "The first thing the cockroach did was build up a clocking-in mechanism.\n",
        "He also needs the assistance of a secretary to assist him in writing and typing his reports.\n",
        "He hired a spider to look after the archives and keep track of all phone calls.\n",
        "\"\"\",\"\"\"\n",
        "The lion was so pleased with the report that was presented by the cockroach that the lion requested him to prepare documents analysing process efficiency and patterns so that he might utilise them in committee meetings.\n",
        "As a result, the cockroach had to get a desktop in order to accomplish his task ahead of schedule. The ant, who had earlier been so productive and comfortable, despised the new flurry of documentation and conferences that had taken up far too much of her day.\n",
        "The lion came to the opinion that it was past time to appoint someone in charge of the ant's department. The cicada was given the job, and his first purchase was a carpet and a comfortable chair for his office. Namya, the new in-charge, also needs a computer and a personal assistant, whom he had acquired from his former department to assist him in developing a work and budget control strategic optimization plan.\n",
        "\"\"\",\"\"\"\n",
        "The ant's department is now a sad area, where no one laughs anymore and everyone is upset. Namya convinced the boss, the lion, to begin climate research of the office environment at that time. After reviewing the responsibilities of operating the ant's division, the lion discovered that production was significantly lower than previously, so he enlisted the help of the owl, a respected and well-known expert, to conduct an assessment and make recommendations.\n",
        "The owl stayed in the department for three months and produced a massive report (in several volumes) concluding that \"the department is overstaffed.\"\n",
        "Guess who the lion fired first?The ant of course “Because she showed a lack of motivation and had a negative attitude.After analyzing the situation, the ant decided to join the office back and despite having a lot, she used a smart approach and find out the best possible solutions to bring a huge profit to the office. Also, she reached the position of a lion (her boss).We conclude from the above story of ant that one who falls bounces with a greater height.\n",
        "Always be determined to reach your goal.\n",
        "\"\"\"]"
      ],
      "metadata": {
        "id": "xocDmU2mMQsv"
      },
      "execution_count": 9,
      "outputs": []
    },
    {
      "cell_type": "code",
      "source": [
        "import pprint\n",
        "translated_text = \"\"\n",
        "for t in Translator(story):\n",
        "  translated_text += t[\"translation_text\"] + \" \"\n",
        "pprint.pprint(translated_text)"
      ],
      "metadata": {
        "colab": {
          "base_uri": "https://localhost:8080/"
        },
        "id": "mEbwCnoRMU-I",
        "outputId": "4ecc8c98-537a-4480-b2eb-6f969a7ff8a4"
      },
      "execution_count": 10,
      "outputs": [
        {
          "output_type": "stream",
          "name": "stdout",
          "text": [
            "('كل يوم، كانت النملة الصغيرة تستخدم للوصول إلى مكتبها في وقت مبكر وسرعان ما '\n",
            " 'بدأت العمل؛ وكانت راضية عن حياتها. وكان مشرف النملة، الأسد، الشخص الوحيد '\n",
            " 'الذي يدير كل الأشياء بنفسه وفكر أنه إذا كان النملة قادرة على خلق الكثير من '\n",
            " 'دون إشراف، ألن تكون قادرة على القيام ببعض العمل الإضافي؟ ونتيجة لذلك، جند '\n",
            " 'الأسد مساعدة صرصور ذي خبرة إشرافية كبيرة وسمعة لإنتاج تقارير جيدة. كان أول '\n",
            " 'ما فعله الصرصور هو بناء آلية لضبط التوقيت، وهو يحتاج أيضاً إلى مساعدة سكرتير '\n",
            " 'لمساعدته في كتابة وطباعة تقاريره، واستأجر عنكبوتاً ليعتني بالمحفوظات ويتابع '\n",
            " 'جميع المكالمات الهاتفية. وكان الأسد مسروراً جداً بالتقرير الذي قدمه النسر '\n",
            " 'الذي طلب منه الأسد إعداد الوثائق التي تحلل كفاءة العملية وأنماطها ليستخدمها '\n",
            " 'في اجتماعات اللجان، ونتيجة لذلك اضطر الصرصور إلى الحصول على سطح مكتب لإنجاز '\n",
            " 'مهمته قبل الموعد المحدد، واحتقر النمل، الذي كان منتجاً ومريحاً جداً في وقت '\n",
            " 'سابق، المجموعة الجديدة من الوثائق والمؤتمرات التي استغرقت وقتاً طويلاً جداً '\n",
            " 'من يومها، ورأى الأسد أن الوقت قد حان لتعيين شخص مسؤول عن إدارة النملة، '\n",
            " 'وأعطيت سيكادا الوظيفة، وكان شراؤه الأول سجاداً وكرسياً مريحاً لمكتبه، وتحتاج '\n",
            " 'ناميا، الموظفة الجديدة، أيضاً إلى حاسوب ومساعد شخصي، كان قد حصل عليه من قسمه '\n",
            " 'السابق لمساعدته في وضع خطة استراتيجية لتحسين العمل ومراقبة الميزانية. قسم '\n",
            " 'النملة هو الآن منطقة حزينة، حيث لا أحد يضحك بعد الآن والكل منزعج. لقد أقنعت '\n",
            " 'ناميا الرئيس، الأسد، بأن يبدأ البحث المناخي في بيئة المكتب في ذلك الوقت. بعد '\n",
            " 'استعراض مسؤوليات تشغيل قسم النملة، اكتشف الأسد أن الإنتاج كان أقل بكثير من '\n",
            " 'ذي قبل، لذا طلب مساعدة البومة، خبير محترم ومعروف جيدا، لإجراء تقييم وتقديم '\n",
            " 'توصيات. بقيت البومة في القسم لمدة ثلاثة أشهر وأصدرت تقريرا ضخما (في عدة '\n",
            " 'مجلدات) استنتجت أن \"القسم مُرهق\" ')\n"
          ]
        }
      ]
    }
  ]
}