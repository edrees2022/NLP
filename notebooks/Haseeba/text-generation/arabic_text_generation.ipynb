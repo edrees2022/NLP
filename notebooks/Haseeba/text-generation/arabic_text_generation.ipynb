{
  "cells": [
    {
      "cell_type": "code",
      "execution_count": 63,
      "metadata": {
        "id": "wb6wuOupt9Ln"
      },
      "outputs": [],
      "source": [
        "from transformers import pipeline\n",
        "from pprint import pprint\n",
        "import textwrap\n",
        "\n",
        "ar_gen=pipeline(\"text-generation\", model=\"aubmindlab/aragpt2-medium\")\n",
        "ar_gen1=pipeline(\"text-generation\", model=\"akhooli/gpt2-small-arabic\")\n",
        "prompt=\"الشبكات العصبية مع الانتباه قد استخدمت بنجاح كبير\"\n"
      ]
    },
    {
      "cell_type": "code",
      "execution_count": 64,
      "metadata": {
        "colab": {
          "base_uri": "https://localhost:8080/"
        },
        "id": "rRvIHon-zGCv",
        "outputId": "64508bf9-6942-4f9e-c298-07d094f2b210"
      },
      "outputs": [
        {
          "name": "stderr",
          "output_type": "stream",
          "text": [
            "Setting `pad_token_id` to `eos_token_id`:0 for open-end generation.\n"
          ]
        },
        {
          "data": {
            "text/plain": [
              "[{'generated_text': 'الشبكات العصبية مع الانتباه قد استخدمت بنجاح كبير في علاج بعض أنواع السرطان مثل سرطان الثدي والبروستات والثدي والرئة والكلى والمثانة والمعدة والأمعاء والقولون والمستقيم.أثبتت الدراسات أن هناك علاقة قوية بين استخدام الهاتف المحمول والسرطان'}]"
            ]
          },
          "execution_count": 64,
          "metadata": {},
          "output_type": "execute_result"
        }
      ],
      "source": [
        "ar_gen(prompt)"
      ]
    },
    {
      "cell_type": "code",
      "execution_count": 65,
      "metadata": {
        "colab": {
          "base_uri": "https://localhost:8080/"
        },
        "id": "KIok1Hq8zG4D",
        "outputId": "d00ce113-a31b-412e-d780-da0734693848"
      },
      "outputs": [
        {
          "name": "stderr",
          "output_type": "stream",
          "text": [
            "Setting `pad_token_id` to `eos_token_id`:50256 for open-end generation.\n"
          ]
        },
        {
          "data": {
            "text/plain": [
              "[{'generated_text': 'الشبكات العصبية مع الانتباه قد استخدمت بنجاح كبير في التشخيصات غير المتعلقة بمرض هنتنغتون. عادة ما يتم تشخيص سرطان الأطفال بشكل خاطئ إلى حد ما عند الإصابة به. وعادة ما يتم استخدام مصطلح سرطان الأطفال على أنه واحد أو عدة أنواع مختلفة من الإجراءات'}]"
            ]
          },
          "execution_count": 65,
          "metadata": {},
          "output_type": "execute_result"
        }
      ],
      "source": [
        "ar_gen1(prompt)"
      ]
    },
    {
      "cell_type": "code",
      "execution_count": 66,
      "metadata": {
        "colab": {
          "base_uri": "https://localhost:8080/"
        },
        "id": "OLihrsLVze_x",
        "outputId": "bd9bdec9-1137-4b7a-8d2b-5eb9510d9341"
      },
      "outputs": [
        {
          "name": "stderr",
          "output_type": "stream",
          "text": [
            "Setting `pad_token_id` to `eos_token_id`:0 for open-end generation.\n"
          ]
        }
      ],
      "source": [
        "s=ar_gen(prompt)"
      ]
    },
    {
      "cell_type": "code",
      "execution_count": 67,
      "metadata": {
        "colab": {
          "base_uri": "https://localhost:8080/"
        },
        "id": "UUKqWUeZumhq",
        "outputId": "2da22aaf-c154-43d4-b98e-5cb1b04ebfb1"
      },
      "outputs": [
        {
          "name": "stdout",
          "output_type": "stream",
          "text": [
            "الشبكات العصبية مع الانتباه قد استخدمت بنجاح كبير من قبل الباحثين في مجال علم الأعصاب ، بما في ذلك دراسة ما إذا كان هناك صلة بين اضطراب نقص الانتباه وفرط النشاط ( ADHD ).ووفقا لدراسة نشرت في وقت سابق من هذا العام ،\n"
          ]
        }
      ],
      "source": [
        "print(s[0]['generated_text'])"
      ]
    },
    {
      "cell_type": "code",
      "execution_count": 68,
      "metadata": {
        "colab": {
          "base_uri": "https://localhost:8080/"
        },
        "id": "jWF5N0qxvZQ1",
        "outputId": "caa1f2e8-7208-4ea4-cf9d-44ec180734e9"
      },
      "outputs": [
        {
          "name": "stderr",
          "output_type": "stream",
          "text": [
            "Truncation was not explicitly activated but `max_length` is provided a specific value, please use `truncation=True` to explicitly truncate examples to max length. Defaulting to 'longest_first' truncation strategy. If you encode pairs of sequences (GLUE-style) with the tokenizer you can select this strategy more precisely by providing a specific strategy to `truncation`.\n",
            "Setting `pad_token_id` to `eos_token_id`:0 for open-end generation.\n"
          ]
        },
        {
          "data": {
            "text/plain": [
              "[{'generated_text': 'الذكاء الاصطناعي هو قدرة الإنسان على التفكير والإبداع في مختلف مجالات الحياة ، كما أن الذكاء الاصطناعي له دور كبير في تطور المجتمعات البشرية.وأضافت الدراسة التي نشرت نتائجها صحيفة \" ديلي ميل \" البريطانية ، الأربعاء ، أن هذا النوع من الذكاء يمكن أن يساهم في حل الكثير من المشاكل الاجتماعية مثل ارتفاع معدلات الطلاق ومشاكل الصحة العقلية.ووفقا للدراسة ، فإن الأشخاص الذين يتمتعون بذكاء اصطناعي يمتلكون قدرات عقلية أفضل من أولئك الذين يفتقرون إلى ذكاء اصطناعي.وتبين أيضا أن الأشخاص ذوي الذكاء الصناعي يميلون إلى'}]"
            ]
          },
          "execution_count": 68,
          "metadata": {},
          "output_type": "execute_result"
        }
      ],
      "source": [
        "txt='الذكاء الاصطناعي'\n",
        "ar_gen(txt,max_length=100)"
      ]
    },
    {
      "cell_type": "code",
      "execution_count": 69,
      "metadata": {
        "colab": {
          "base_uri": "https://localhost:8080/"
        },
        "id": "XoAbM29tzqHf",
        "outputId": "9a511f87-a80b-4f25-edea-2138df3b9c60"
      },
      "outputs": [
        {
          "name": "stdout",
          "output_type": "stream",
          "text": [
            "[{'generated_text': 'الذكاء الاصطناعي هو قدرة الإنسان على التفكير والإبداع في '\n",
            "                    'مختلف مجالات الحياة ، كما أن الذكاء الاصطناعي له دور كبير '\n",
            "                    'في تطور المجتمعات البشرية.وأضافت الدراسة التي نشرت '\n",
            "                    'نتائجها صحيفة \" ديلي ميل \" البريطانية ، الأربعاء ، أن هذا '\n",
            "                    'النوع من الذكاء يمكن أن يساهم في حل الكثير من المشاكل '\n",
            "                    'الاجتماعية مثل ارتفاع معدلات الطلاق ومشاكل الصحة '\n",
            "                    'العقلية.ووفقا للدراسة ، فإن الأشخاص الذين يتمتعون بذكاء '\n",
            "                    'اصطناعي يمتلكون قدرات عقلية أفضل من أولئك الذين يفتقرون '\n",
            "                    'إلى ذكاء اصطناعي.وتبين أيضا أن الأشخاص ذوي الذكاء الصناعي '\n",
            "                    'يميلون إلى'}]\n"
          ]
        }
      ],
      "source": [
        "pprint(_)"
      ]
    },
    {
      "cell_type": "code",
      "execution_count": 70,
      "metadata": {
        "colab": {
          "base_uri": "https://localhost:8080/"
        },
        "id": "sCf5dTFnwprm",
        "outputId": "398d6f24-b2c5-4d38-b504-43e1702530d3"
      },
      "outputs": [
        {
          "name": "stderr",
          "output_type": "stream",
          "text": [
            "Setting `pad_token_id` to `eos_token_id`:0 for open-end generation.\n"
          ]
        },
        {
          "name": "stdout",
          "output_type": "stream",
          "text": [
            "[{'generated_text': 'عَلى قَدْرِ أهْلِ العَزْم تأتي العَزائِمُسويمسويتل يويتا'}]\n"
          ]
        }
      ],
      "source": [
        "pprint(ar_gen('عَلى قَدْرِ أهْلِ العَزْم تأتي العَزائِمُ',max_length=50))"
      ]
    },
    {
      "cell_type": "code",
      "execution_count": 71,
      "metadata": {
        "colab": {
          "base_uri": "https://localhost:8080/"
        },
        "id": "kFIXaNmO0awX",
        "outputId": "250caae6-6458-4f81-bf1c-351c4a5e4c80"
      },
      "outputs": [
        {
          "name": "stderr",
          "output_type": "stream",
          "text": [
            "Truncation was not explicitly activated but `max_length` is provided a specific value, please use `truncation=True` to explicitly truncate examples to max length. Defaulting to 'longest_first' truncation strategy. If you encode pairs of sequences (GLUE-style) with the tokenizer you can select this strategy more precisely by providing a specific strategy to `truncation`.\n",
            "Setting `pad_token_id` to `eos_token_id`:50256 for open-end generation.\n"
          ]
        },
        {
          "name": "stdout",
          "output_type": "stream",
          "text": [
            "[{'generated_text': 'عَلى قَدْرِ أهْلِ العَزْم تأتي العَزائِمُسنشوشل ايا هه ا '\n",
            "                    'ارد ا ار'}]\n"
          ]
        }
      ],
      "source": [
        "pprint(ar_gen1('عَلى قَدْرِ أهْلِ العَزْم تأتي العَزائِمُ',max_length=50))"
      ]
    },
    {
      "cell_type": "code",
      "execution_count": 72,
      "metadata": {
        "colab": {
          "base_uri": "https://localhost:8080/"
        },
        "id": "38FNlxpGxe6Z",
        "outputId": "eec3c69b-2261-478a-d605-ac79a76b2168"
      },
      "outputs": [
        {
          "name": "stderr",
          "output_type": "stream",
          "text": [
            "Setting `pad_token_id` to `eos_token_id`:0 for open-end generation.\n"
          ]
        },
        {
          "name": "stdout",
          "output_type": "stream",
          "text": [
            "[{'generated_text': 'إذا الشـــعبُ يومـا أراد '\n",
            "                    'الحيــاةتلاهيفاتيرامانتاوالوبمدينةبالمدينةمنظمةأمنيةجميعةمحافظةمدينةسي'},\n",
            " {'generated_text': 'إذا الشـــعبُ يومـا أراد '\n",
            "                    'الحيــاةتلاهيفاتيرامانتاوالوبمدينةبالمدينةمنظمةأمنيةجمعيةبحوثالحزبالشبكة'},\n",
            " {'generated_text': 'إذا الشـــعبُ يومـا أراد '\n",
            "                    'الحيــاةتلاهيفاتيرامانتاوالوبمدينةبالمدينةمنظمةأمنيةجميعةمحافظةمدينةدر'}]\n"
          ]
        }
      ],
      "source": [
        "pprint(ar_gen('إذا الشـــعبُ يومـا أراد الحيــاة',num_return_sequences=3,max_length=50))"
      ]
    },
    {
      "cell_type": "code",
      "execution_count": 73,
      "metadata": {
        "colab": {
          "base_uri": "https://localhost:8080/"
        },
        "id": "QueJXqWwyUjF",
        "outputId": "3eae2c55-4c4a-41b8-df01-258f4e3b6f1b"
      },
      "outputs": [
        {
          "name": "stderr",
          "output_type": "stream",
          "text": [
            "Setting `pad_token_id` to `eos_token_id`:50256 for open-end generation.\n"
          ]
        },
        {
          "name": "stdout",
          "output_type": "stream",
          "text": [
            "[{'generated_text': 'إذا الشـــعبُ يومـا أراد الحيــاة و نبتق ضبعه و ماعزهما '\n",
            "                    'في هذا البيت الذي كان فيه المنزل ملتقى لم يعش أحد فيه عند '\n",
            "                    'تأسيس المدينة، ولم'},\n",
            " {'generated_text': 'إذا الشـــعبُ يومـا أراد الحيــاة و المسلك و الستائر و '\n",
            "                    'المسلك و المسلك و المسلك و المسلك و المسلك و الستائر و '\n",
            "                    'المسلك و'},\n",
            " {'generated_text': 'إذا الشـــعبُ يومـا أراد الحيــاة أن يكون ضارا في حال رفض '\n",
            "                    'ذلك. أما السبب وراء هذا الفشل هو أن الضراء لا يمكن التأكد '\n",
            "                    'من خلوها بدون أن يكون لها'}]\n"
          ]
        }
      ],
      "source": [
        "pprint(ar_gen1('إذا الشـــعبُ يومـا أراد الحيــاة',num_return_sequences=3,max_length=50))"
      ]
    },
    {
      "cell_type": "code",
      "execution_count": 74,
      "metadata": {
        "id": "957-luK42ruF"
      },
      "outputs": [],
      "source": [
        "def wrap(x):\n",
        "  return textwrap.fill(x,replace_whitespace=False,fix_sentence_endings=True)"
      ]
    },
    {
      "cell_type": "code",
      "execution_count": 75,
      "metadata": {
        "colab": {
          "base_uri": "https://localhost:8080/"
        },
        "id": "3jZ_eKeV30YN",
        "outputId": "d4c9f093-afa5-4dbc-ec2a-882dbc836efc"
      },
      "outputs": [
        {
          "name": "stderr",
          "output_type": "stream",
          "text": [
            "Setting `pad_token_id` to `eos_token_id`:0 for open-end generation.\n"
          ]
        },
        {
          "name": "stdout",
          "output_type": "stream",
          "text": [
            "العلم نورٌ وسبب للتخلّص من الجهل ، كما قال تعالى : { أفمن شرح الله\n",
            "صدره للإسلام فهو على نور من ربه فويل للقاسية قلوبهم من ذكر الله أولئك\n",
            "في ضلال مبين } [الزمر : 22].\n"
          ]
        }
      ],
      "source": [
        "print(wrap(ar_gen('العلم نورٌ وسبب للتخلّص من الجهل',max_length=50)[0]['generated_text']))"
      ]
    },
    {
      "cell_type": "code",
      "execution_count": 76,
      "metadata": {
        "colab": {
          "base_uri": "https://localhost:8080/"
        },
        "id": "KmxZ1Jch4XwK",
        "outputId": "c07fb24f-79da-47c9-e434-40b725e0de64"
      },
      "outputs": [
        {
          "name": "stderr",
          "output_type": "stream",
          "text": [
            "Setting `pad_token_id` to `eos_token_id`:50256 for open-end generation.\n"
          ]
        },
        {
          "name": "stdout",
          "output_type": "stream",
          "text": [
            "العلم نورٌ وسبب للتخلّص من الجهل في القرن الرابع عشر حيث تعرف في هذا\n",
            "الإطار أن العلم هو الذي يتم تعلمه من خلال القراءة. وفي هذا الإطار تعرف\n",
            "على يد الراهب سان دييغو أوبينتاو الذي عاش نحو 200 عام\n"
          ]
        }
      ],
      "source": [
        "print(wrap(ar_gen1('العلم نورٌ وسبب للتخلّص من الجهل',max_length=50)[0]['generated_text']))"
      ]
    }
  ],
  "metadata": {
    "accelerator": "GPU",
    "colab": {
      "gpuType": "T4",
      "provenance": []
    },
    "kernelspec": {
      "display_name": "Python 3",
      "name": "python3"
    },
    "language_info": {
      "name": "python",
      "version": "3.10.8"
    }
  },
  "nbformat": 4,
  "nbformat_minor": 0
}
