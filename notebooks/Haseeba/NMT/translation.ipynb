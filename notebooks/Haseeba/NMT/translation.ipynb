{
  "nbformat": 4,
  "nbformat_minor": 0,
  "metadata": {
    "colab": {
      "provenance": []
    },
    "kernelspec": {
      "name": "python3",
      "display_name": "Python 3"
    },
    "language_info": {
      "name": "python"
    }
  },
  "cells": [
    {
      "cell_type": "code",
      "execution_count": 5,
      "metadata": {
        "id": "AlcE166EzsYD"
      },
      "outputs": [],
      "source": [
        "from transformers import pipeline"
      ]
    },
    {
      "cell_type": "code",
      "source": [
        "Translator = pipeline(\"translation\", model=\"Helsinki-NLP/opus-mt-en-ar\")\n",
        "ArbTranslator = pipeline(\"translation\", model=\"Helsinki-NLP/opus-mt-ar-en\")\n"
      ],
      "metadata": {
        "colab": {
          "base_uri": "https://localhost:8080/"
        },
        "id": "4SnjWmDJzvw0",
        "outputId": "d3182595-fd3c-4996-99ef-95b6efa5155b"
      },
      "execution_count": 6,
      "outputs": [
        {
          "output_type": "stream",
          "name": "stderr",
          "text": [
            "/usr/local/lib/python3.10/dist-packages/transformers/models/marian/tokenization_marian.py:197: UserWarning: Recommended: pip install sacremoses.\n",
            "  warnings.warn(\"Recommended: pip install sacremoses.\")\n"
          ]
        }
      ]
    },
    {
      "cell_type": "code",
      "source": [
        "text = \"This is a sample sentence in English.\"\n",
        "\n",
        "\n",
        "translated_text = Translator(text)[0][\"translation_text\"]\n",
        "\n",
        "print(translated_text)"
      ],
      "metadata": {
        "colab": {
          "base_uri": "https://localhost:8080/"
        },
        "id": "6YAZZTYJzyzl",
        "outputId": "83b41ecb-b1cb-4b1b-8b4b-1ee7820c7f6b"
      },
      "execution_count": 7,
      "outputs": [
        {
          "output_type": "stream",
          "name": "stdout",
          "text": [
            "هذه هي عينة الجملة باللغة الإنجليزية.\n"
          ]
        }
      ]
    },
    {
      "cell_type": "code",
      "source": [
        "text =[\"translate this sentance from English to Arabic language\",\" also this sentance \",\" The weather is beautiful today\"]\n",
        "Translator(text)"
      ],
      "metadata": {
        "colab": {
          "base_uri": "https://localhost:8080/"
        },
        "id": "f--AV3iS0De6",
        "outputId": "03e650cd-13ab-4360-fd14-5cbcc4ae2d9a"
      },
      "execution_count": 8,
      "outputs": [
        {
          "output_type": "execute_result",
          "data": {
            "text/plain": [
              "[{'translation_text': 'ترجم هذه الرسالة من الإنكليزية إلى العربية'},\n",
              " {'translation_text': 'أيضاً هذا المرسَل'},\n",
              " {'translation_text': 'الطقس جميل اليوم'}]"
            ]
          },
          "metadata": {},
          "execution_count": 8
        }
      ]
    },
    {
      "cell_type": "code",
      "source": [
        "text = \"هذه جملة نموذجية باللغة العربية.\"\n",
        "translated_text = ArbTranslator(text)[0][\"translation_text\"]\n",
        "print(translated_text)"
      ],
      "metadata": {
        "colab": {
          "base_uri": "https://localhost:8080/"
        },
        "id": "NjIajCJq0E3O",
        "outputId": "0926f696-1c51-4272-a63d-963d24182060"
      },
      "execution_count": 9,
      "outputs": [
        {
          "output_type": "stream",
          "name": "stdout",
          "text": [
            "This is a typical sentence in Arabic.\n"
          ]
        }
      ]
    },
    {
      "cell_type": "code",
      "source": [
        "print(Translator.model.config.max_length)"
      ],
      "metadata": {
        "colab": {
          "base_uri": "https://localhost:8080/"
        },
        "id": "eLdPUVeF0N-j",
        "outputId": "571c155f-e47e-43c2-c5fa-498e0310535c"
      },
      "execution_count": 10,
      "outputs": [
        {
          "output_type": "stream",
          "name": "stdout",
          "text": [
            "512\n"
          ]
        }
      ]
    },
    {
      "cell_type": "code",
      "source": [
        "story=[\"\"\"\n",
        "Every day, a small ant used to reach her office early and quickly began working; she was contented with her life.\n",
        "The ant's supervisor, a lion, was the only person to manage all the things on his own and thought that if the ant can create so much without supervision, wouldn't she be able to do a little extra work?\n",
        "As a result, the lion enlisted the help of a cockroach with significant supervisory experience and a reputation for producing good reports.\n",
        "\"\"\",\"\"\"\n",
        "The first thing the cockroach did was build up a clocking-in mechanism.\n",
        "He also needs the assistance of a secretary to assist him in writing and typing his reports.\n",
        "He hired a spider to look after the archives and keep track of all phone calls.\n",
        "\"\"\",\"\"\"\n",
        "The lion was so pleased with the report that was presented by the cockroach that the lion requested him to prepare documents analysing process efficiency and patterns so that he might utilise them in committee meetings.\n",
        "As a result, the cockroach had to get a desktop in order to accomplish his task ahead of schedule. The ant, who had earlier been so productive and comfortable, despised the new flurry of documentation and conferences that had taken up far too much of her day.\n",
        "The lion came to the opinion that it was past time to appoint someone in charge of the ant's department. The cicada was given the job, and his first purchase was a carpet and a comfortable chair for his office. Namya, the new in-charge, also needs a computer and a personal assistant, whom he had acquired from his former department to assist him in developing a work and budget control strategic optimization plan.\n",
        "\"\"\",\"\"\"\n",
        "The ant's department is now a sad area, where no one laughs anymore and everyone is upset. Namya convinced the boss, the lion, to begin climate research of the office environment at that time. After reviewing the responsibilities of operating the ant's division, the lion discovered that production was significantly lower than previously, so he enlisted the help of the owl, a respected and well-known expert, to conduct an assessment and make recommendations.\n",
        "The owl stayed in the department for three months and produced a massive report (in several volumes) concluding that \"the department is overstaffed.\"\n",
        "Guess who the lion fired first?The ant of course “Because she showed a lack of motivation and had a negative attitude.After analyzing the situation, the ant decided to join the office back and despite having a lot, she used a smart approach and find out the best possible solutions to bring a huge profit to the office. Also, she reached the position of a lion (her boss).We conclude from the above story of ant that one who falls bounces with a greater height.\n",
        "Always be determined to reach your goal.\n",
        "\"\"\"]"
      ],
      "metadata": {
        "id": "he9IkfHH0O3L"
      },
      "execution_count": 11,
      "outputs": []
    },
    {
      "cell_type": "code",
      "source": [
        "import pprint\n",
        "translated_text = \"\"\n",
        "for t in Translator(story):\n",
        "  translated_text += t[\"translation_text\"] + \" \"\n",
        "pprint.pprint(translated_text)"
      ],
      "metadata": {
        "colab": {
          "base_uri": "https://localhost:8080/"
        },
        "id": "tsk-_b9o0ZUt",
        "outputId": "b07d2fd6-21c1-4c9d-95a9-12ae12ed8c91"
      },
      "execution_count": 12,
      "outputs": [
        {
          "output_type": "stream",
          "name": "stdout",
          "text": [
            "('كل يوم، كانت النملة الصغيرة تستخدم للوصول إلى مكتبها في وقت مبكر وسرعان ما '\n",
            " 'بدأت العمل؛ وكانت راضية عن حياتها. وكان مشرف النملة، الأسد، الشخص الوحيد '\n",
            " 'الذي يدير كل الأشياء بنفسه وفكر أنه إذا كان النملة قادرة على خلق الكثير من '\n",
            " 'دون إشراف، ألن تكون قادرة على القيام ببعض العمل الإضافي؟ ونتيجة لذلك، جند '\n",
            " 'الأسد مساعدة صرصور ذي خبرة إشرافية كبيرة وسمعة لإنتاج تقارير جيدة. كان أول '\n",
            " 'ما فعله الصرصور هو بناء آلية لضبط التوقيت، وهو يحتاج أيضاً إلى مساعدة سكرتير '\n",
            " 'لمساعدته في كتابة وطباعة تقاريره، واستأجر عنكبوتاً ليعتني بالمحفوظات ويتابع '\n",
            " 'جميع المكالمات الهاتفية. وكان الأسد مسروراً جداً بالتقرير الذي قدمه النسر '\n",
            " 'الذي طلب منه الأسد إعداد الوثائق التي تحلل كفاءة العملية وأنماطها ليستخدمها '\n",
            " 'في اجتماعات اللجان، ونتيجة لذلك اضطر الصرصور إلى الحصول على سطح مكتب لإنجاز '\n",
            " 'مهمته قبل الموعد المحدد، واحتقر النمل، الذي كان منتجاً ومريحاً جداً في وقت '\n",
            " 'سابق، المجموعة الجديدة من الوثائق والمؤتمرات التي استغرقت وقتاً طويلاً جداً '\n",
            " 'من يومها، ورأى الأسد أن الوقت قد حان لتعيين شخص مسؤول عن إدارة النملة، '\n",
            " 'وأعطيت سيكادا الوظيفة، وكان شراؤه الأول سجاداً وكرسياً مريحاً لمكتبه، وتحتاج '\n",
            " 'ناميا، الموظفة الجديدة، أيضاً إلى حاسوب ومساعد شخصي، كان قد حصل عليه من قسمه '\n",
            " 'السابق لمساعدته في وضع خطة استراتيجية لتحسين العمل ومراقبة الميزانية. قسم '\n",
            " 'النملة هو الآن منطقة حزينة، حيث لا أحد يضحك بعد الآن والكل منزعج. لقد أقنعت '\n",
            " 'ناميا الرئيس، الأسد، بأن يبدأ البحث المناخي في بيئة المكتب في ذلك الوقت. بعد '\n",
            " 'استعراض مسؤوليات تشغيل قسم النملة، اكتشف الأسد أن الإنتاج كان أقل بكثير من '\n",
            " 'ذي قبل، لذا طلب مساعدة البومة، خبير محترم ومعروف جيدا، لإجراء تقييم وتقديم '\n",
            " 'توصيات. بقيت البومة في القسم لمدة ثلاثة أشهر وأصدرت تقريرا ضخما (في عدة '\n",
            " 'مجلدات) استنتجت أن \"القسم مُرهق\" ')\n"
          ]
        }
      ]
    }
  ]
}