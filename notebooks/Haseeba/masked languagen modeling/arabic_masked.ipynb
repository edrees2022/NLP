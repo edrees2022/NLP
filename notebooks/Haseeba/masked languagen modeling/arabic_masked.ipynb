{
  "nbformat": 4,
  "nbformat_minor": 0,
  "metadata": {
    "colab": {
      "provenance": []
    },
    "kernelspec": {
      "name": "python3",
      "display_name": "Python 3"
    },
    "language_info": {
      "name": "python"
    }
  },
  "cells": [
    {
      "cell_type": "code",
      "execution_count": 2,
      "metadata": {
        "id": "DxA_JmIwyCbP"
      },
      "outputs": [],
      "source": [
        "from transformers import pipeline\n",
        "\n"
      ]
    },
    {
      "cell_type": "code",
      "source": [
        "mlm_pipeline = pipeline(\"fill-mask\", model=\"CAMeL-Lab/bert-base-arabic-camelbert-msa\")\n",
        "masked_sentence =\"الهدف من العمل هو [MASK] .\"\n",
        "prediction = mlm_pipeline(masked_sentence)\n",
        "\n",
        "print(prediction)\n"
      ],
      "metadata": {
        "colab": {
          "base_uri": "https://localhost:8080/"
        },
        "id": "r6vwyKNoyUx9",
        "outputId": "13e82d56-acf3-4a82-bcfb-41a983e228d6"
      },
      "execution_count": 3,
      "outputs": [
        {
          "output_type": "stream",
          "name": "stderr",
          "text": [
            "Some weights of the model checkpoint at CAMeL-Lab/bert-base-arabic-camelbert-msa were not used when initializing BertForMaskedLM: ['bert.pooler.dense.bias', 'bert.pooler.dense.weight', 'cls.seq_relationship.bias', 'cls.seq_relationship.weight']\n",
            "- This IS expected if you are initializing BertForMaskedLM from the checkpoint of a model trained on another task or with another architecture (e.g. initializing a BertForSequenceClassification model from a BertForPreTraining model).\n",
            "- This IS NOT expected if you are initializing BertForMaskedLM from the checkpoint of a model that you expect to be exactly identical (initializing a BertForSequenceClassification model from a BertForSequenceClassification model).\n"
          ]
        },
        {
          "output_type": "stream",
          "name": "stdout",
          "text": [
            "[{'score': 0.12929867208003998, 'token': 12413, 'token_str': 'الربح', 'sequence': 'الهدف من العمل هو الربح.'}, {'score': 0.06844508647918701, 'token': 2854, 'token_str': 'العمل', 'sequence': 'الهدف من العمل هو العمل.'}, {'score': 0.03879711031913757, 'token': 6232, 'token_str': 'النجاح', 'sequence': 'الهدف من العمل هو النجاح.'}, {'score': 0.03292825073003769, 'token': 26077, 'token_str': 'المتعة', 'sequence': 'الهدف من العمل هو المتعة.'}, {'score': 0.018105607479810715, 'token': 12554, 'token_str': 'التعلم', 'sequence': 'الهدف من العمل هو التعلم.'}]\n"
          ]
        }
      ]
    },
    {
      "cell_type": "code",
      "source": [
        "mlm_pipeline = pipeline(\"fill-mask\", model=\"CAMeL-Lab/bert-base-arabic-camelbert-msa\")\n",
        "masked_sentence =\"فرنسا [MASK] باريس\"\n",
        "prediction = mlm_pipeline(masked_sentence)\n",
        "print(prediction)\n"
      ],
      "metadata": {
        "colab": {
          "base_uri": "https://localhost:8080/"
        },
        "id": "glLrJA3XykIQ",
        "outputId": "d824aa19-f042-4216-8232-ef0c5debe1d7"
      },
      "execution_count": 4,
      "outputs": [
        {
          "output_type": "stream",
          "name": "stderr",
          "text": [
            "Some weights of the model checkpoint at CAMeL-Lab/bert-base-arabic-camelbert-msa were not used when initializing BertForMaskedLM: ['bert.pooler.dense.bias', 'bert.pooler.dense.weight', 'cls.seq_relationship.bias', 'cls.seq_relationship.weight']\n",
            "- This IS expected if you are initializing BertForMaskedLM from the checkpoint of a model trained on another task or with another architecture (e.g. initializing a BertForSequenceClassification model from a BertForPreTraining model).\n",
            "- This IS NOT expected if you are initializing BertForMaskedLM from the checkpoint of a model that you expect to be exactly identical (initializing a BertForSequenceClassification model from a BertForSequenceClassification model).\n"
          ]
        },
        {
          "output_type": "stream",
          "name": "stdout",
          "text": [
            "[{'score': 0.6901984810829163, 'token': 17, 'token_str': '-', 'sequence': 'فرنسا - باريس'}, {'score': 0.11702524125576019, 'token': 19, 'token_str': '/', 'sequence': 'فرنسا / باريس'}, {'score': 0.030542828142642975, 'token': 14, 'token_str': '*', 'sequence': 'فرنسا * باريس'}, {'score': 0.018182311207056046, 'token': 1912, 'token_str': 'في', 'sequence': 'فرنسا في باريس'}, {'score': 0.011674595065414906, 'token': 30, 'token_str': ':', 'sequence': 'فرنسا : باريس'}]\n"
          ]
        }
      ]
    }
  ]
}