{
  "cells": [
    {
      "cell_type": "code",
      "execution_count": null,
      "metadata": {
        "id": "iCrGTNONI2o3"
      },
      "outputs": [],
      "source": [
        "!wget -nc https://github.com/edrees2022/NLP-With-Transformers/blob/main/notebooks/Edrees/text_generation/robert_forst.txt"
      ]
    },
    {
      "cell_type": "code",
      "execution_count": null,
      "metadata": {
        "id": "1XlbZuRBH78G"
      },
      "outputs": [],
      "source": [
        "!pip install transformers"
      ]
    },
    {
      "cell_type": "code",
      "execution_count": null,
      "metadata": {
        "id": "PlK2NdkNIHve"
      },
      "outputs": [],
      "source": [
        "from transformers import pipeline, set_seed\n",
        "\n",
        "import textwrap\n",
        "import numpy as np\n",
        "import matplotlib.pyplot as plt\n",
        "\n",
        "from pprint import pprint"
      ]
    },
    {
      "cell_type": "code",
      "execution_count": null,
      "metadata": {
        "id": "wTXeoufSIao9"
      },
      "outputs": [],
      "source": [
        "!cat robert_forst.txt"
      ]
    },
    {
      "cell_type": "code",
      "execution_count": null,
      "metadata": {
        "id": "gV7wTbQ8Imj8"
      },
      "outputs": [],
      "source": [
        "lines = [line.rstrip() for line in open('robert_forst.txt')]\n",
        "lines=[line for line in lines if len(line) > 0]"
      ]
    },
    {
      "cell_type": "code",
      "execution_count": null,
      "metadata": {
        "id": "v4WgeUYdLSfd"
      },
      "outputs": [],
      "source": [
        "gen = pipeline(\"text-generation\")"
      ]
    },
    {
      "cell_type": "code",
      "execution_count": null,
      "metadata": {
        "id": "6G9scmXdL367"
      },
      "outputs": [],
      "source": [
        "# set the seed for the transformers library. But feel free to turn this off for your won use.\n",
        "set_seed(1234)"
      ]
    },
    {
      "cell_type": "code",
      "execution_count": null,
      "metadata": {
        "id": "fRQyLIUgOhVd"
      },
      "outputs": [],
      "source": [
        "lines[0]"
      ]
    },
    {
      "cell_type": "code",
      "execution_count": null,
      "metadata": {
        "id": "xv_5AmzoP1gn"
      },
      "outputs": [],
      "source": [
        "#now, unfortunately this returns a lot of text that foes of the screen.\n",
        "out = gen(lines[0])"
      ]
    },
    {
      "cell_type": "code",
      "execution_count": null,
      "metadata": {
        "id": "Swx1lvzXPtJF"
      },
      "outputs": [],
      "source": [
        "# print the above in a more readable format\n",
        "pprint(out[0]['generated_text'])"
      ]
    },
    {
      "cell_type": "code",
      "execution_count": null,
      "metadata": {
        "id": "kfw4vjfIQnIM"
      },
      "outputs": [],
      "source": [
        "pprint(gen(lines[0], max_length=20))"
      ]
    },
    {
      "cell_type": "markdown",
      "metadata": {
        "id": "QI7NEiFPSBFo"
      },
      "source": [
        "As you recall, text generation is stochastic since we're sampling from a probabiliy distribution"
      ]
    },
    {
      "cell_type": "code",
      "execution_count": null,
      "metadata": {
        "id": "16ufuBDSQu3n"
      },
      "outputs": [],
      "source": [
        "# ولد بشكل متعدد واختار واحد\n",
        "out = gen(lines[0], num_return_sequences=3, max_length=20)\n",
        "pprint(out)"
      ]
    },
    {
      "cell_type": "code",
      "execution_count": null,
      "metadata": {
        "id": "jyaBMOFOSg6n"
      },
      "outputs": [],
      "source": [
        "def wrap(x):\n",
        "  return textwrap.fill(x, replace_whitespace=False, fix_sentence_endings=True)"
      ]
    },
    {
      "cell_type": "code",
      "execution_count": null,
      "metadata": {
        "id": "lF9NP0cOTi6K"
      },
      "outputs": [],
      "source": [
        "out=gen(lines[0], max_length=30)\n",
        "print(wrap(out[0]['generated_text']))"
      ]
    },
    {
      "cell_type": "code",
      "execution_count": null,
      "metadata": {
        "id": "n0xVSxtfVBPT"
      },
      "outputs": [],
      "source": [
        "prev = \"Two roads diverged in a yellow wood, including one that blocked the\" + \\\n",
        "    \" road leading to another intersection in the middle of the city.\"\n",
        "\n",
        "out = gen(prev+ '\\n' + lines[2], max_length=60)\n",
        "print(wrap(out[0]['generated_text']))"
      ]
    },
    {
      "cell_type": "code",
      "execution_count": null,
      "metadata": {
        "id": "RI_XJNSwZud0"
      },
      "outputs": [],
      "source": [
        "prompt = \"Newral networks with attention have been used with great success\" + \\\n",
        "    \" in natural language processing\"\n",
        "\n",
        "out = gen(prompt, max_length=300)\n",
        "print(wrap(out[0]['generated_text']))"
      ]
    },
    {
      "cell_type": "markdown",
      "metadata": {
        "id": "6uPbgjr5hqrc"
      },
      "source": [
        "# Masked Language Modeling\n"
      ]
    },
    {
      "cell_type": "code",
      "execution_count": null,
      "metadata": {
        "id": "x62fc1rUltao"
      },
      "outputs": [],
      "source": [
        "mlm= pipeline('fill-mask')"
      ]
    },
    {
      "cell_type": "code",
      "execution_count": null,
      "metadata": {
        "id": "s9iLFTj3lvdZ"
      },
      "outputs": [],
      "source": [
        "mlm('Bombardier cheif to leave <mask>')"
      ]
    },
    {
      "cell_type": "code",
      "execution_count": null,
      "metadata": {
        "id": "oyFU_v48fPKN"
      },
      "outputs": [],
      "source": [
        "import pandas as pd"
      ]
    },
    {
      "cell_type": "code",
      "execution_count": null,
      "metadata": {
        "id": "8L1rsqGsfIWg"
      },
      "outputs": [],
      "source": [
        "df = pd.read_csv(\"bbc-text.csv\")"
      ]
    },
    {
      "cell_type": "code",
      "execution_count": null,
      "metadata": {
        "id": "5El4v2sCfXEA"
      },
      "outputs": [],
      "source": [
        "df.head()"
      ]
    },
    {
      "cell_type": "code",
      "execution_count": null,
      "metadata": {
        "id": "W5at6kJjfhBl"
      },
      "outputs": [],
      "source": [
        "labels = set(df.category)\n",
        "labels"
      ]
    },
    {
      "cell_type": "code",
      "execution_count": null,
      "metadata": {
        "id": "vfHa-Th3fotC"
      },
      "outputs": [],
      "source": [
        "# Pick a label\n",
        "label = 'business'"
      ]
    },
    {
      "cell_type": "code",
      "execution_count": null,
      "metadata": {
        "id": "_0f7lfVhf6_j"
      },
      "outputs": [],
      "source": [
        "texts = df.text\n",
        "texts.head()"
      ]
    },
    {
      "cell_type": "code",
      "execution_count": null,
      "metadata": {
        "id": "cszv7Aa5f-At"
      },
      "outputs": [],
      "source": [
        "np.random.seed(1234)"
      ]
    },
    {
      "cell_type": "code",
      "execution_count": null,
      "metadata": {
        "id": "KI9sd3KkmKjp"
      },
      "outputs": [],
      "source": [
        "print(texts.shape)"
      ]
    },
    {
      "cell_type": "code",
      "execution_count": null,
      "metadata": {
        "id": "Q1Jh3WtNmNFJ"
      },
      "outputs": [],
      "source": [
        "len(texts)"
      ]
    },
    {
      "cell_type": "code",
      "execution_count": null,
      "metadata": {
        "id": "NRLl91onf4xB"
      },
      "outputs": [],
      "source": [
        "i = np.random.choice(texts.shape[0])\n",
        "doc = texts.loc[i]\n",
        "doc"
      ]
    },
    {
      "cell_type": "code",
      "execution_count": null,
      "metadata": {
        "id": "id_ST2gbmpAu"
      },
      "outputs": [],
      "source": [
        "texts[i]"
      ]
    },
    {
      "cell_type": "code",
      "execution_count": null,
      "metadata": {
        "id": "AXi5IQQfgEkZ"
      },
      "outputs": [],
      "source": [
        "print(textwrap.fill(doc, replace_whitespace=False, fix_sentence_endings=True))"
      ]
    }
  ],
  "metadata": {
    "colab": {
      "provenance": []
    },
    "kernelspec": {
      "display_name": "Python 3",
      "name": "python3"
    },
    "language_info": {
      "name": "python"
    }
  },
  "nbformat": 4,
  "nbformat_minor": 0
}
