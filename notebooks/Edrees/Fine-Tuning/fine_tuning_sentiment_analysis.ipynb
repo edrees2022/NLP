{
  "cells": [
    {
      "cell_type": "code",
      "execution_count": null,
      "metadata": {
        "id": "NRoi-odlcmmL"
      },
      "outputs": [],
      "source": [
        "! pip install -U accelerate\n",
        "! pip install -U transformers"
      ]
    },
    {
      "cell_type": "code",
      "execution_count": null,
      "metadata": {
        "id": "vyXp-lQtWqQZ"
      },
      "outputs": [],
      "source": [
        "!pip install datasets"
      ]
    },
    {
      "cell_type": "code",
      "execution_count": 4,
      "metadata": {
        "id": "2wr6Nnm4W-zH"
      },
      "outputs": [],
      "source": [
        "from datasets import load_dataset\n",
        "import numpy as np"
      ]
    },
    {
      "cell_type": "code",
      "execution_count": null,
      "metadata": {
        "id": "T8cY2XtXXCDJ"
      },
      "outputs": [],
      "source": [
        "raw_datasets = load_dataset('glue', 'sst2')"
      ]
    },
    {
      "cell_type": "code",
      "execution_count": null,
      "metadata": {
        "id": "GY2YWpYzXGsy"
      },
      "outputs": [],
      "source": [
        "raw_datasets"
      ]
    },
    {
      "cell_type": "code",
      "execution_count": null,
      "metadata": {
        "id": "OEQcGndGXJcF"
      },
      "outputs": [],
      "source": [
        "raw_datasets['train']"
      ]
    },
    {
      "cell_type": "code",
      "execution_count": null,
      "metadata": {
        "id": "gIM62nWHXLeF"
      },
      "outputs": [],
      "source": [
        "dir(raw_datasets['train'])"
      ]
    },
    {
      "cell_type": "code",
      "execution_count": null,
      "metadata": {
        "id": "sdVvFJstXN55"
      },
      "outputs": [],
      "source": [
        "type(raw_datasets['train'])"
      ]
    },
    {
      "cell_type": "code",
      "execution_count": null,
      "metadata": {
        "id": "_NCFp6OzXPsu"
      },
      "outputs": [],
      "source": [
        "raw_datasets['train'].data"
      ]
    },
    {
      "cell_type": "code",
      "execution_count": null,
      "metadata": {
        "id": "k8pNrLBmXRt1"
      },
      "outputs": [],
      "source": [
        "raw_datasets['train'][0]"
      ]
    },
    {
      "cell_type": "code",
      "execution_count": null,
      "metadata": {
        "id": "988m6X6NXTre"
      },
      "outputs": [],
      "source": [
        "raw_datasets['train'][50_000:50_003]\n"
      ]
    },
    {
      "cell_type": "code",
      "execution_count": null,
      "metadata": {
        "id": "AzWzdItRXVpS"
      },
      "outputs": [],
      "source": [
        "raw_datasets['train'].features\n"
      ]
    },
    {
      "cell_type": "code",
      "execution_count": 14,
      "metadata": {
        "id": "lvJ_6epLXYSh"
      },
      "outputs": [],
      "source": [
        "from transformers import AutoTokenizer"
      ]
    },
    {
      "cell_type": "code",
      "execution_count": null,
      "metadata": {
        "id": "Trq1YmEIXatG"
      },
      "outputs": [],
      "source": [
        "# checkpoint = \"bert-base-uncased\"\n",
        "checkpoint = \"distilbert-base-uncased\"\n",
        "tokenizer = AutoTokenizer.from_pretrained(checkpoint)"
      ]
    },
    {
      "cell_type": "code",
      "execution_count": null,
      "metadata": {
        "id": "UM4hAyHRXe-y"
      },
      "outputs": [],
      "source": [
        "tokenized_sentences = tokenizer(raw_datasets['train'][0:3]['sentence'])\n",
        "from pprint import pprint\n",
        "pprint(tokenized_sentences)"
      ]
    },
    {
      "cell_type": "code",
      "execution_count": 17,
      "metadata": {
        "id": "6outzyfAXf95"
      },
      "outputs": [],
      "source": [
        "def tokenize_fn(batch):\n",
        "    return tokenizer(batch['sentence'], truncation=True)"
      ]
    },
    {
      "cell_type": "code",
      "execution_count": null,
      "metadata": {
        "id": "a84FIqeOXf7Z"
      },
      "outputs": [],
      "source": [
        "tokenized_datasets = raw_datasets.map(tokenize_fn, batched=True)"
      ]
    },
    {
      "cell_type": "code",
      "execution_count": 19,
      "metadata": {
        "id": "X0D-t_GbXf4h"
      },
      "outputs": [],
      "source": [
        "from transformers import TrainingArguments"
      ]
    },
    {
      "cell_type": "code",
      "execution_count": 20,
      "metadata": {
        "id": "Q45maYsifhX1"
      },
      "outputs": [],
      "source": [
        "training_args = TrainingArguments(\n",
        "    'my_trainer',\n",
        "    evaluation_strategy = 'epoch',\n",
        "    save_strategy = 'epoch',\n",
        "    num_train_epochs=1\n",
        ")"
      ]
    },
    {
      "cell_type": "code",
      "execution_count": 21,
      "metadata": {
        "id": "vW4RCMpdXuA8"
      },
      "outputs": [],
      "source": [
        "from transformers import AutoModelForSequenceClassification"
      ]
    },
    {
      "cell_type": "code",
      "execution_count": null,
      "metadata": {
        "id": "PIet5Y-jXt-E"
      },
      "outputs": [],
      "source": [
        "model = AutoModelForSequenceClassification.from_pretrained(checkpoint,num_labels=2)"
      ]
    },
    {
      "cell_type": "code",
      "execution_count": null,
      "metadata": {
        "id": "ydZXF2ZwXt69"
      },
      "outputs": [],
      "source": [
        "type(model)\n"
      ]
    },
    {
      "cell_type": "code",
      "execution_count": null,
      "metadata": {
        "id": "NttcOnlmXt4E"
      },
      "outputs": [],
      "source": [
        "model\n"
      ]
    },
    {
      "cell_type": "code",
      "execution_count": null,
      "metadata": {
        "id": "kXqZo-ZnXt1N"
      },
      "outputs": [],
      "source": [
        "!pip install torchinfo"
      ]
    },
    {
      "cell_type": "code",
      "execution_count": null,
      "metadata": {
        "id": "jY8GcSrwXfzg"
      },
      "outputs": [],
      "source": [
        "from torchinfo import summary\n",
        "# summary(model, input_size=(16,512), dtypes=['torch.IntTensor'], device='cpu)\n",
        "summary(model)"
      ]
    },
    {
      "cell_type": "code",
      "execution_count": 27,
      "metadata": {
        "id": "xQAKHPRlXfw6"
      },
      "outputs": [],
      "source": [
        "\n",
        "params_before = []\n",
        "for name, p in model.named_parameters():\n",
        "    params_before.append(p.detach().cpu().numpy())"
      ]
    },
    {
      "cell_type": "code",
      "execution_count": null,
      "metadata": {
        "id": "-4KpJL2vXftQ"
      },
      "outputs": [],
      "source": [
        "params_before"
      ]
    },
    {
      "cell_type": "code",
      "execution_count": 29,
      "metadata": {
        "id": "8kcC-d-BX_Y5"
      },
      "outputs": [],
      "source": [
        "from transformers import Trainer\n",
        "from datasets import load_metric\n"
      ]
    },
    {
      "cell_type": "code",
      "execution_count": null,
      "metadata": {
        "id": "hDgEQZoFX_WC"
      },
      "outputs": [],
      "source": [
        "metric = load_metric(\"glue\", \"sst2\")\n",
        "\n",
        "# call also load specific metrics\n",
        "# metric = load_metric(\"f1\")\n",
        "# metric = load_metric(\"bleu\")"
      ]
    },
    {
      "cell_type": "code",
      "execution_count": null,
      "metadata": {
        "id": "_DBy48xlX_S_"
      },
      "outputs": [],
      "source": [
        "metric.compute(predictions=[1, 0, 1], references=[1, 0, 0])\n"
      ]
    },
    {
      "cell_type": "code",
      "execution_count": 32,
      "metadata": {
        "id": "Wle4VKIpX_Po"
      },
      "outputs": [],
      "source": [
        "def compute_metrics(logits_and_labels):\n",
        "    metric = load_metric(\"glue\", \"sst2\") # could also be outside\n",
        "    logits, labels = logits_and_labels\n",
        "    predictions = np.argmax(logits, axis=-1)\n",
        "    return metric.compute(predictions=predictions, references=labels)"
      ]
    },
    {
      "cell_type": "code",
      "execution_count": 33,
      "metadata": {
        "id": "mfh84_3FXfjg"
      },
      "outputs": [],
      "source": [
        "trainer = Trainer(\n",
        "    model,\n",
        "    training_args,\n",
        "    train_dataset=tokenized_datasets['train'],\n",
        "    eval_dataset=tokenized_datasets['validation'],\n",
        "    tokenizer=tokenizer,\n",
        "    compute_metrics=compute_metrics\n",
        ")"
      ]
    },
    {
      "cell_type": "code",
      "execution_count": null,
      "metadata": {
        "id": "6r_q9uwMofpu"
      },
      "outputs": [],
      "source": [
        "trainer.train()\n"
      ]
    },
    {
      "cell_type": "code",
      "execution_count": null,
      "metadata": {
        "id": "mZH9qRZbYYno"
      },
      "outputs": [],
      "source": [
        "trainer.save_model('my_saved_model')\n"
      ]
    },
    {
      "cell_type": "code",
      "execution_count": null,
      "metadata": {
        "id": "Z2hBC5uHYa2K"
      },
      "outputs": [],
      "source": [
        "!ls"
      ]
    },
    {
      "cell_type": "code",
      "execution_count": null,
      "metadata": {
        "id": "5A0ErNRuYazR"
      },
      "outputs": [],
      "source": [
        "!ls my_saved_model"
      ]
    },
    {
      "cell_type": "code",
      "execution_count": null,
      "metadata": {
        "id": "KAT92cJAYaw2"
      },
      "outputs": [],
      "source": [
        "from transformers import pipeline"
      ]
    },
    {
      "cell_type": "code",
      "execution_count": null,
      "metadata": {
        "id": "zV3m7xW6Yaub"
      },
      "outputs": [],
      "source": [
        "new_model = pipeline('text-classification', model='my_saved_model', device=0)"
      ]
    },
    {
      "cell_type": "code",
      "execution_count": null,
      "metadata": {
        "id": "__9Hsj0hYkhz"
      },
      "outputs": [],
      "source": [
        "new_model(\"This movie is great!\")"
      ]
    },
    {
      "cell_type": "code",
      "execution_count": null,
      "metadata": {
        "id": "ecDTwzOzYke3"
      },
      "outputs": [],
      "source": [
        "new_model(\"This movie is sucks\")"
      ]
    },
    {
      "cell_type": "code",
      "execution_count": null,
      "metadata": {
        "id": "1bixx-AtYpC_"
      },
      "outputs": [],
      "source": [
        "!cat my_saved_model/config.json"
      ]
    },
    {
      "cell_type": "code",
      "execution_count": null,
      "metadata": {
        "id": "r8EMndF-YpAI"
      },
      "outputs": [],
      "source": [
        "import json"
      ]
    },
    {
      "cell_type": "code",
      "execution_count": null,
      "metadata": {
        "id": "l3pdcCAZYo9R"
      },
      "outputs": [],
      "source": [
        "\n",
        "config_path = \"my_saved_model/config.json\"\n",
        "with open(config_path) as f:\n",
        "    j = json.load(f)\n",
        "\n",
        "j['id2label'] = {0: 'negative', 1: 'positive'}\n",
        "with open(config_path, 'w') as f:\n",
        "    json.dump(j, f, indent=2)\n"
      ]
    },
    {
      "cell_type": "code",
      "execution_count": null,
      "metadata": {
        "id": "2zxHLtxJYo6p"
      },
      "outputs": [],
      "source": [
        "!cat my_saved_model/config.json"
      ]
    },
    {
      "cell_type": "code",
      "execution_count": null,
      "metadata": {
        "id": "l7tq1_iuYkcV"
      },
      "outputs": [],
      "source": [
        "new_model = pipeline('text-classification', model='my_saved_model', device=0)"
      ]
    },
    {
      "cell_type": "code",
      "execution_count": null,
      "metadata": {
        "id": "oQ1MpGnXYkZb"
      },
      "outputs": [],
      "source": [
        "new_model(\"This movie is great!\")\n"
      ]
    },
    {
      "cell_type": "code",
      "execution_count": null,
      "metadata": {
        "id": "3wMeT1JgYkUM"
      },
      "outputs": [],
      "source": [
        "new_model(\"This movie is sucks\")"
      ]
    },
    {
      "cell_type": "code",
      "execution_count": null,
      "metadata": {
        "id": "OnGoJ7IbYkBk"
      },
      "outputs": [],
      "source": [
        "params_after = []\n",
        "for name, p in model.named_parameters():\n",
        "    params_after.append(p.detach().cpu().numpy())"
      ]
    },
    {
      "cell_type": "code",
      "execution_count": null,
      "metadata": {
        "id": "1rADk29QYanA"
      },
      "outputs": [],
      "source": [
        "for p1, p2 in zip(params_before, params_after):\n",
        "    print(np.sum(np.abs(p1 - p2)))"
      ]
    }
  ],
  "metadata": {
    "accelerator": "GPU",
    "colab": {
      "gpuType": "T4",
      "provenance": []
    },
    "kernelspec": {
      "display_name": "Python 3",
      "name": "python3"
    },
    "language_info": {
      "name": "python"
    }
  },
  "nbformat": 4,
  "nbformat_minor": 0
}
