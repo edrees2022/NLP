{
  "nbformat": 4,
  "nbformat_minor": 0,
  "metadata": {
    "colab": {
      "provenance": []
    },
    "kernelspec": {
      "name": "python3",
      "display_name": "Python 3"
    },
    "language_info": {
      "name": "python"
    }
  },
  "cells": [
    {
      "cell_type": "code",
      "execution_count": 12,
      "metadata": {
        "colab": {
          "base_uri": "https://localhost:8080/"
        },
        "id": "wMF_6dolacv6",
        "outputId": "391eac8a-3d3b-4ef8-c9e3-22868e230c68"
      },
      "outputs": [
        {
          "output_type": "stream",
          "name": "stdout",
          "text": [
            "Requirement already satisfied: transformers in /usr/local/lib/python3.10/dist-packages (4.37.2)\n",
            "Requirement already satisfied: filelock in /usr/local/lib/python3.10/dist-packages (from transformers) (3.13.1)\n",
            "Requirement already satisfied: huggingface-hub<1.0,>=0.19.3 in /usr/local/lib/python3.10/dist-packages (from transformers) (0.20.3)\n",
            "Requirement already satisfied: numpy>=1.17 in /usr/local/lib/python3.10/dist-packages (from transformers) (1.25.2)\n",
            "Requirement already satisfied: packaging>=20.0 in /usr/local/lib/python3.10/dist-packages (from transformers) (23.2)\n",
            "Requirement already satisfied: pyyaml>=5.1 in /usr/local/lib/python3.10/dist-packages (from transformers) (6.0.1)\n",
            "Requirement already satisfied: regex!=2019.12.17 in /usr/local/lib/python3.10/dist-packages (from transformers) (2023.12.25)\n",
            "Requirement already satisfied: requests in /usr/local/lib/python3.10/dist-packages (from transformers) (2.31.0)\n",
            "Requirement already satisfied: tokenizers<0.19,>=0.14 in /usr/local/lib/python3.10/dist-packages (from transformers) (0.15.2)\n",
            "Requirement already satisfied: safetensors>=0.4.1 in /usr/local/lib/python3.10/dist-packages (from transformers) (0.4.2)\n",
            "Requirement already satisfied: tqdm>=4.27 in /usr/local/lib/python3.10/dist-packages (from transformers) (4.66.2)\n",
            "Requirement already satisfied: fsspec>=2023.5.0 in /usr/local/lib/python3.10/dist-packages (from huggingface-hub<1.0,>=0.19.3->transformers) (2023.6.0)\n",
            "Requirement already satisfied: typing-extensions>=3.7.4.3 in /usr/local/lib/python3.10/dist-packages (from huggingface-hub<1.0,>=0.19.3->transformers) (4.9.0)\n",
            "Requirement already satisfied: charset-normalizer<4,>=2 in /usr/local/lib/python3.10/dist-packages (from requests->transformers) (3.3.2)\n",
            "Requirement already satisfied: idna<4,>=2.5 in /usr/local/lib/python3.10/dist-packages (from requests->transformers) (3.6)\n",
            "Requirement already satisfied: urllib3<3,>=1.21.1 in /usr/local/lib/python3.10/dist-packages (from requests->transformers) (2.0.7)\n",
            "Requirement already satisfied: certifi>=2017.4.17 in /usr/local/lib/python3.10/dist-packages (from requests->transformers) (2024.2.2)\n"
          ]
        }
      ],
      "source": [
        "\n",
        "!pip install transformers"
      ]
    },
    {
      "cell_type": "code",
      "source": [
        "from transformers import pipeline\n",
        "import numpy as np\n",
        "import pandas as pd\n",
        "import seaborn as sn\n",
        "import textwrap\n",
        "import matplotlib.pyplot as plt\n",
        "from sklearn.metrics import roc_auc_score, f1_score, confusion_matrix\n",
        "from sklearn.model_selection import train_test_split\n",
        "\n"
      ],
      "metadata": {
        "id": "e659uw6Yem55"
      },
      "execution_count": 36,
      "outputs": []
    },
    {
      "cell_type": "code",
      "source": [
        "model = pipeline('text-generation',model='elgeish/gpt2-medium-arabic-poetry')"
      ],
      "metadata": {
        "id": "qqW3pbwTe94Q"
      },
      "execution_count": 41,
      "outputs": []
    },
    {
      "cell_type": "code",
      "source": [
        "text=\"الا ليت الشباب يعود يوما\"\n"
      ],
      "metadata": {
        "id": "mZ3Z1kISgohb"
      },
      "execution_count": 42,
      "outputs": []
    },
    {
      "cell_type": "code",
      "source": [
        "model(text)"
      ],
      "metadata": {
        "colab": {
          "base_uri": "https://localhost:8080/"
        },
        "id": "lKejZOYOiDjn",
        "outputId": "00f45a6c-dfe4-487a-da25-b6ab2676d08e"
      },
      "execution_count": 43,
      "outputs": [
        {
          "output_type": "stream",
          "name": "stderr",
          "text": [
            "Setting `pad_token_id` to `eos_token_id`:0 for open-end generation.\n"
          ]
        },
        {
          "output_type": "execute_result",
          "data": {
            "text/plain": [
              "[{'generated_text': 'الا ليت الشباب يعود يوما بعد يوم والشيب قد زال عن ناظري وعن ناظري الي ان تولي الشيب عني وانقضي عهد الشباب وما انقضي ايامه عندي ولا انقضت ايامه يا صاح لا تجزعي ما عشت فانما عيشي حياة'}]"
            ]
          },
          "metadata": {},
          "execution_count": 43
        }
      ]
    },
    {
      "cell_type": "code",
      "source": [
        "\n",
        "s=model(text)\n",
        ""
      ],
      "metadata": {
        "colab": {
          "base_uri": "https://localhost:8080/"
        },
        "id": "LXejTIy_jp9V",
        "outputId": "3bbd8878-fa3f-46ac-b6c5-24b37befa34d"
      },
      "execution_count": 44,
      "outputs": [
        {
          "output_type": "stream",
          "name": "stderr",
          "text": [
            "Setting `pad_token_id` to `eos_token_id`:0 for open-end generation.\n"
          ]
        }
      ]
    },
    {
      "cell_type": "code",
      "source": [
        "print(s[0]['generated_text'])"
      ],
      "metadata": {
        "colab": {
          "base_uri": "https://localhost:8080/"
        },
        "id": "EzNtt8NDlK05",
        "outputId": "980f27ae-2956-4be3-f068-13bd37905216"
      },
      "execution_count": 45,
      "outputs": [
        {
          "output_type": "stream",
          "name": "stdout",
          "text": [
            "الا ليت الشباب يعود يوما الي اوطانه ما عاد في اعصاره من مءنس ايامه و لياليه سلفت لم يبق منها غير ذكراه يا حبذا تلك اليالي وحبذا ايامه ان كان لا بد من يوم\n"
          ]
        }
      ]
    },
    {
      "cell_type": "code",
      "source": [
        "txt=' قصيدة'\n",
        "model(txt,max_length=100)"
      ],
      "metadata": {
        "colab": {
          "base_uri": "https://localhost:8080/"
        },
        "id": "64NC0FcNlU_o",
        "outputId": "084c532a-71bd-4ad8-9ef3-154fdc677bb7"
      },
      "execution_count": 46,
      "outputs": [
        {
          "output_type": "stream",
          "name": "stderr",
          "text": [
            "Truncation was not explicitly activated but `max_length` is provided a specific value, please use `truncation=True` to explicitly truncate examples to max length. Defaulting to 'longest_first' truncation strategy. If you encode pairs of sequences (GLUE-style) with the tokenizer you can select this strategy more precisely by providing a specific strategy to `truncation`.\n",
            "Setting `pad_token_id` to `eos_token_id`:0 for open-end generation.\n"
          ]
        },
        {
          "output_type": "execute_result",
          "data": {
            "text/plain": [
              "[{'generated_text': ' قصيدة في اليل لا تبكي علي احد ولا ترتجف من شدة التعب كل ما تبقي من العمر يكفي لتكمل رحلة الاولين الي الدنيا بلا خوف او ذهول غير اني لم اعد اميز بين الموت والميلاد وبين الموت والنسيان واظل ابحث عن عيونك كي ابصر وجهك مرسوما علي دفتر مدرسي او لوحة زيتية علي باب بيتي او قمرا علي غصن زيتون او زهرة برية لعلي اراك بعينيك التين تقولان كلاما جميلا قبل ان تذهبان الي المدرسه وتذهبين الي'}]"
            ]
          },
          "metadata": {},
          "execution_count": 46
        }
      ]
    },
    {
      "cell_type": "code",
      "source": [
        "print(_)"
      ],
      "metadata": {
        "colab": {
          "base_uri": "https://localhost:8080/"
        },
        "id": "acMmep0QlrH6",
        "outputId": "7099ff2e-fa60-4734-a76b-d7d77fd3fdbb"
      },
      "execution_count": 47,
      "outputs": [
        {
          "output_type": "stream",
          "name": "stdout",
          "text": [
            "[{'generated_text': ' قصيدة في اليل لا تبكي علي احد ولا ترتجف من شدة التعب كل ما تبقي من العمر يكفي لتكمل رحلة الاولين الي الدنيا بلا خوف او ذهول غير اني لم اعد اميز بين الموت والميلاد وبين الموت والنسيان واظل ابحث عن عيونك كي ابصر وجهك مرسوما علي دفتر مدرسي او لوحة زيتية علي باب بيتي او قمرا علي غصن زيتون او زهرة برية لعلي اراك بعينيك التين تقولان كلاما جميلا قبل ان تذهبان الي المدرسه وتذهبين الي'}]\n"
          ]
        }
      ]
    },
    {
      "cell_type": "code",
      "source": [
        "print(model('العلم نور',max_length=50))\n",
        "\n",
        ""
      ],
      "metadata": {
        "colab": {
          "base_uri": "https://localhost:8080/"
        },
        "id": "DL5KYro4lxop",
        "outputId": "05655a47-3baa-4789-cb02-c76a13293b93"
      },
      "execution_count": 48,
      "outputs": [
        {
          "output_type": "stream",
          "name": "stderr",
          "text": [
            "Setting `pad_token_id` to `eos_token_id`:0 for open-end generation.\n"
          ]
        },
        {
          "output_type": "stream",
          "name": "stdout",
          "text": [
            "[{'generated_text': 'العلم نورك في الوري و لا برحت لك الاعياد عيدا مءرخا يا قبر اكرم من وطيء الثري شرفا بنيك الاكرمين فانهم ما انجبوك الا فخرهم ومجدا ورثوا المعالي كابرا عن ك'}]\n"
          ]
        }
      ]
    },
    {
      "cell_type": "code",
      "source": [
        "print(model('بحثت عن هبة احبوك ي وطني فلم اجد سوا قلبي الدامي',num_return_sequences=3,max_length=50))"
      ],
      "metadata": {
        "colab": {
          "base_uri": "https://localhost:8080/"
        },
        "id": "yHux6h9Mmyj6",
        "outputId": "2b6b19b5-759f-48da-b6a6-4187c9a67dac"
      },
      "execution_count": 49,
      "outputs": [
        {
          "output_type": "stream",
          "name": "stderr",
          "text": [
            "Setting `pad_token_id` to `eos_token_id`:0 for open-end generation.\n"
          ]
        },
        {
          "output_type": "stream",
          "name": "stdout",
          "text": [
            "[{'generated_text': 'بحثت عن هبة احبوك ي وطني فلم اجد سوا قلبي الدامي ودمعتي تجري علي كتفي من مقلتيها لم يبق لي غير ان ارسم فوق جبينك اجمل ما رسمت في ناظريك احلام عمري الذي قد ضاع مني بين يديك'}, {'generated_text': 'بحثت عن هبة احبوك ي وطني فلم اجد سوا قلبي الدامي ودمعتي تجري علي كتفي من مقلتيها لم يبق لي غير ان ارسم فوق جبينك اجمل ما رسمت في ناظريك احلام عمري الذي قد ضاع بين يديك يا'}, {'generated_text': 'بحثت عن هبة احبوك ي وطني فلم اجد سوا قلبي الدامي ودمعتي تجري علي كتفي من مقلتيها لم يبق لي غير ان ارسم فوق جبينك اجمل ما رسمت في ناظريك احلام عمري الذي قد ضاع مني ولم يعد'}]\n"
          ]
        }
      ]
    },
    {
      "cell_type": "code",
      "source": [
        "def wrap(x):\n",
        "  return textwrap.fill(x,replace_whitespace=False,fix_sentence_endings=True)"
      ],
      "metadata": {
        "id": "yHXi_H-rnSO1"
      },
      "execution_count": 50,
      "outputs": []
    },
    {
      "cell_type": "code",
      "source": [
        "print(wrap(model('بحثت عن هبة احبوك ي وطني فلم اجد سوا قلبي الدامي',max_length=50)[0]['generated_text']))\n",
        ""
      ],
      "metadata": {
        "colab": {
          "base_uri": "https://localhost:8080/"
        },
        "id": "e6Ne2jKnn9t1",
        "outputId": "07e1e3fd-9d72-4404-d69f-c973317e0d3c"
      },
      "execution_count": 51,
      "outputs": [
        {
          "output_type": "stream",
          "name": "stderr",
          "text": [
            "Setting `pad_token_id` to `eos_token_id`:0 for open-end generation.\n"
          ]
        },
        {
          "output_type": "stream",
          "name": "stdout",
          "text": [
            "بحثت عن هبة احبوك ي وطني فلم اجد سوا قلبي الدامي ولم اجد سوي حنيني\n",
            "المدمي علي كتفي ودمعي النازف من مقلتي لم اجد غير ظما في الحنايا وفي كل\n",
            "الشفاه وفي كل القصاءد\n"
          ]
        }
      ]
    }
  ]
}