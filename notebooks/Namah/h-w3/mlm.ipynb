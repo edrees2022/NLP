{
  "cells": [
    {
      "cell_type": "code",
      "execution_count": 3,
      "metadata": {
        "colab": {
          "base_uri": "https://localhost:8080/"
        },
        "id": "S1xTOucdoIQx",
        "outputId": "284bef63-1eed-45ce-ac08-172ad8b54606"
      },
      "outputs": [
        {
          "output_type": "stream",
          "name": "stdout",
          "text": [
            "Requirement already satisfied: transformers in /usr/local/lib/python3.10/dist-packages (4.38.1)\n",
            "Requirement already satisfied: filelock in /usr/local/lib/python3.10/dist-packages (from transformers) (3.13.1)\n",
            "Requirement already satisfied: huggingface-hub<1.0,>=0.19.3 in /usr/local/lib/python3.10/dist-packages (from transformers) (0.20.3)\n",
            "Requirement already satisfied: numpy>=1.17 in /usr/local/lib/python3.10/dist-packages (from transformers) (1.25.2)\n",
            "Requirement already satisfied: packaging>=20.0 in /usr/local/lib/python3.10/dist-packages (from transformers) (23.2)\n",
            "Requirement already satisfied: pyyaml>=5.1 in /usr/local/lib/python3.10/dist-packages (from transformers) (6.0.1)\n",
            "Requirement already satisfied: regex!=2019.12.17 in /usr/local/lib/python3.10/dist-packages (from transformers) (2023.12.25)\n",
            "Requirement already satisfied: requests in /usr/local/lib/python3.10/dist-packages (from transformers) (2.31.0)\n",
            "Requirement already satisfied: tokenizers<0.19,>=0.14 in /usr/local/lib/python3.10/dist-packages (from transformers) (0.15.2)\n",
            "Requirement already satisfied: safetensors>=0.4.1 in /usr/local/lib/python3.10/dist-packages (from transformers) (0.4.2)\n",
            "Requirement already satisfied: tqdm>=4.27 in /usr/local/lib/python3.10/dist-packages (from transformers) (4.66.2)\n",
            "Requirement already satisfied: fsspec>=2023.5.0 in /usr/local/lib/python3.10/dist-packages (from huggingface-hub<1.0,>=0.19.3->transformers) (2023.6.0)\n",
            "Requirement already satisfied: typing-extensions>=3.7.4.3 in /usr/local/lib/python3.10/dist-packages (from huggingface-hub<1.0,>=0.19.3->transformers) (4.10.0)\n",
            "Requirement already satisfied: charset-normalizer<4,>=2 in /usr/local/lib/python3.10/dist-packages (from requests->transformers) (3.3.2)\n",
            "Requirement already satisfied: idna<4,>=2.5 in /usr/local/lib/python3.10/dist-packages (from requests->transformers) (3.6)\n",
            "Requirement already satisfied: urllib3<3,>=1.21.1 in /usr/local/lib/python3.10/dist-packages (from requests->transformers) (2.0.7)\n",
            "Requirement already satisfied: certifi>=2017.4.17 in /usr/local/lib/python3.10/dist-packages (from requests->transformers) (2024.2.2)\n"
          ]
        }
      ],
      "source": [
        "!pip install transformers\n"
      ]
    },
    {
      "cell_type": "code",
      "execution_count": 7,
      "metadata": {
        "id": "NgkDSpgnDydw",
        "colab": {
          "base_uri": "https://localhost:8080/"
        },
        "outputId": "80ae6e8d-59fe-4a17-9db9-a54adfb40dbe"
      },
      "outputs": [
        {
          "output_type": "stream",
          "name": "stderr",
          "text": [
            "Some weights of the model checkpoint at CAMeL-Lab/bert-base-arabic-camelbert-msa were not used when initializing BertForMaskedLM: ['bert.pooler.dense.bias', 'bert.pooler.dense.weight', 'cls.seq_relationship.bias', 'cls.seq_relationship.weight']\n",
            "- This IS expected if you are initializing BertForMaskedLM from the checkpoint of a model trained on another task or with another architecture (e.g. initializing a BertForSequenceClassification model from a BertForPreTraining model).\n",
            "- This IS NOT expected if you are initializing BertForMaskedLM from the checkpoint of a model that you expect to be exactly identical (initializing a BertForSequenceClassification model from a BertForSequenceClassification model).\n"
          ]
        },
        {
          "output_type": "stream",
          "name": "stdout",
          "text": [
            "[{'score': 0.12929867208003998, 'token': 12413, 'token_str': 'الربح', 'sequence': 'الهدف من العمل هو الربح.'}, {'score': 0.06844508647918701, 'token': 2854, 'token_str': 'العمل', 'sequence': 'الهدف من العمل هو العمل.'}, {'score': 0.03879711031913757, 'token': 6232, 'token_str': 'النجاح', 'sequence': 'الهدف من العمل هو النجاح.'}, {'score': 0.03292825073003769, 'token': 26077, 'token_str': 'المتعة', 'sequence': 'الهدف من العمل هو المتعة.'}, {'score': 0.018105607479810715, 'token': 12554, 'token_str': 'التعلم', 'sequence': 'الهدف من العمل هو التعلم.'}]\n"
          ]
        }
      ],
      "source": [
        "from transformers import pipeline\n",
        "# Create the Arabic mask language model pipeline\n",
        "mlm_pipeline = pipeline(\"fill-mask\", model=\"CAMeL-Lab/bert-base-arabic-camelbert-msa\")\n",
        "# Use the pipeline to predict the masked word\n",
        "masked_sentence =\"الهدف من العمل هو [MASK] .\"\n",
        "prediction = mlm_pipeline(masked_sentence)\n",
        "# Print the predicted word\n",
        "print(prediction)\n"
      ]
    },
    {
      "cell_type": "code",
      "source": [
        "from transformers import pipeline\n",
        "# Create the Arabic mask language model pipeline\n",
        "mlm_pipeline = pipeline(\"fill-mask\", model=\"CAMeL-Lab/bert-base-arabic-camelbert-msa\")\n",
        "# Use the pipeline to predict the masked word\n",
        "masked_sentence =\"فرنسا .[MASK] باريس\"\n",
        "prediction = mlm_pipeline(masked_sentence)\n",
        "# Print the predicted word\n",
        "print(prediction)\n"
      ],
      "metadata": {
        "colab": {
          "base_uri": "https://localhost:8080/"
        },
        "id": "kfNkvT-Wz7TK",
        "outputId": "05c0d7ca-d04f-46fe-9542-d031b7ac86f4"
      },
      "execution_count": 10,
      "outputs": [
        {
          "output_type": "stream",
          "name": "stderr",
          "text": [
            "Some weights of the model checkpoint at CAMeL-Lab/bert-base-arabic-camelbert-msa were not used when initializing BertForMaskedLM: ['bert.pooler.dense.bias', 'bert.pooler.dense.weight', 'cls.seq_relationship.bias', 'cls.seq_relationship.weight']\n",
            "- This IS expected if you are initializing BertForMaskedLM from the checkpoint of a model trained on another task or with another architecture (e.g. initializing a BertForSequenceClassification model from a BertForPreTraining model).\n",
            "- This IS NOT expected if you are initializing BertForMaskedLM from the checkpoint of a model that you expect to be exactly identical (initializing a BertForSequenceClassification model from a BertForSequenceClassification model).\n"
          ]
        },
        {
          "output_type": "stream",
          "name": "stdout",
          "text": [
            "[{'score': 0.7664781212806702, 'token': 18, 'token_str': '.', 'sequence': 'فرنسا.. باريس'}, {'score': 0.012285696342587471, 'token': 17, 'token_str': '-', 'sequence': 'فرنسا. - باريس'}, {'score': 0.008700505830347538, 'token': 3255, 'token_str': 'مدينة', 'sequence': 'فرنسا. مدينة باريس'}, {'score': 0.007963023148477077, 'token': 25336, 'token_str': 'إذاعة', 'sequence': 'فرنسا. إذاعة باريس'}, {'score': 0.005428942386060953, 'token': 4175, 'token_str': 'جامعة', 'sequence': 'فرنسا. جامعة باريس'}]\n"
          ]
        }
      ]
    }
  ],
  "metadata": {
    "colab": {
      "provenance": []
    },
    "kernelspec": {
      "display_name": "Python 3",
      "name": "python3"
    },
    "language_info": {
      "name": "python"
    }
  },
  "nbformat": 4,
  "nbformat_minor": 0
}