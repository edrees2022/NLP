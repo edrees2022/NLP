{
  "nbformat": 4,
  "nbformat_minor": 0,
  "metadata": {
    "colab": {
      "provenance": []
    },
    "kernelspec": {
      "name": "python3",
      "display_name": "Python 3"
    },
    "language_info": {
      "name": "python"
    }
  },
  "cells": [
    {
      "cell_type": "code",
      "execution_count": 66,
      "metadata": {
        "colab": {
          "base_uri": "https://localhost:8080/"
        },
        "id": "0GyUD6C_FChJ",
        "outputId": "a21d75fc-58e9-42bb-ce0e-fb9618ca2920"
      },
      "outputs": [
        {
          "output_type": "stream",
          "name": "stderr",
          "text": [
            "Setting `pad_token_id` to `eos_token_id`:0 for open-end generation.\n"
          ]
        },
        {
          "output_type": "execute_result",
          "data": {
            "text/plain": [
              "[{'generated_text': ' الشبكات العصبية التي تستخدم التركيز قد استُخدمت بنجاح كبير في مجالات مختلفة لكنها لم تجد فرص كافية لصنع شيء جديد علي الاطلاق لقد نجحت في اعداد نوع جديد من الهندسة الفراغية يمكنك ان تختاره بنفسك عن طريق الصدفة او الصدفة دون الحاجة الي الت'}]"
            ]
          },
          "metadata": {},
          "execution_count": 66
        }
      ],
      "source": [
        "from transformers import pipeline\n",
        "from pprint import pprint\n",
        "import textwrap\n",
        "gen=pipeline(\"text-generation\",model=\"elgeish/gpt2-medium-arabic-poetry\")\n",
        "prompt=\" الشبكات العصبية التي تستخدم التركيز قد استُخدمت بنجاح كبير في مجالات مختلفة\"\n",
        "gen(prompt)"
      ]
    },
    {
      "cell_type": "code",
      "source": [
        "#تستخدم الدالة !wget -nc لتنزيل ملف النص من GitHub وتسميته \"robert_forst.txt\".\n",
        "!wget_nchttps://github.com/edrees2022/NLP-With-Transformers/blob/main/notebooks/Edrees/text_generation/robert_forst.txt#هذا يتغير"
      ],
      "metadata": {
        "colab": {
          "base_uri": "https://localhost:8080/"
        },
        "id": "djUm2FSyFZZq",
        "outputId": "bbf614a5-7416-4f62-baa8-079b5bb69a40"
      },
      "execution_count": 67,
      "outputs": [
        {
          "output_type": "stream",
          "name": "stdout",
          "text": [
            "/bin/bash: line 1: wget_nchttps://github.com/edrees2022/NLP-With-Transformers/blob/main/notebooks/Edrees/text_generation/robert_forst.txt#هذا: No such file or directory\n"
          ]
        }
      ]
    },
    {
      "cell_type": "code",
      "source": [
        "#تستخدم الدالة !pip install لتثبيت مكتبة transformers.\n",
        "!pip install transformers"
      ],
      "metadata": {
        "colab": {
          "base_uri": "https://localhost:8080/"
        },
        "id": "TB8-J9qkFztf",
        "outputId": "aa4391fc-a9ec-4461-ddbe-dbf3c854b101"
      },
      "execution_count": 68,
      "outputs": [
        {
          "output_type": "stream",
          "name": "stdout",
          "text": [
            "Requirement already satisfied: transformers in /usr/local/lib/python3.10/dist-packages (4.37.2)\n",
            "Requirement already satisfied: filelock in /usr/local/lib/python3.10/dist-packages (from transformers) (3.13.1)\n",
            "Requirement already satisfied: huggingface-hub<1.0,>=0.19.3 in /usr/local/lib/python3.10/dist-packages (from transformers) (0.20.3)\n",
            "Requirement already satisfied: numpy>=1.17 in /usr/local/lib/python3.10/dist-packages (from transformers) (1.25.2)\n",
            "Requirement already satisfied: packaging>=20.0 in /usr/local/lib/python3.10/dist-packages (from transformers) (23.2)\n",
            "Requirement already satisfied: pyyaml>=5.1 in /usr/local/lib/python3.10/dist-packages (from transformers) (6.0.1)\n",
            "Requirement already satisfied: regex!=2019.12.17 in /usr/local/lib/python3.10/dist-packages (from transformers) (2023.12.25)\n",
            "Requirement already satisfied: requests in /usr/local/lib/python3.10/dist-packages (from transformers) (2.31.0)\n",
            "Requirement already satisfied: tokenizers<0.19,>=0.14 in /usr/local/lib/python3.10/dist-packages (from transformers) (0.15.2)\n",
            "Requirement already satisfied: safetensors>=0.4.1 in /usr/local/lib/python3.10/dist-packages (from transformers) (0.4.2)\n",
            "Requirement already satisfied: tqdm>=4.27 in /usr/local/lib/python3.10/dist-packages (from transformers) (4.66.2)\n",
            "Requirement already satisfied: fsspec>=2023.5.0 in /usr/local/lib/python3.10/dist-packages (from huggingface-hub<1.0,>=0.19.3->transformers) (2023.6.0)\n",
            "Requirement already satisfied: typing-extensions>=3.7.4.3 in /usr/local/lib/python3.10/dist-packages (from huggingface-hub<1.0,>=0.19.3->transformers) (4.9.0)\n",
            "Requirement already satisfied: charset-normalizer<4,>=2 in /usr/local/lib/python3.10/dist-packages (from requests->transformers) (3.3.2)\n",
            "Requirement already satisfied: idna<4,>=2.5 in /usr/local/lib/python3.10/dist-packages (from requests->transformers) (3.6)\n",
            "Requirement already satisfied: urllib3<3,>=1.21.1 in /usr/local/lib/python3.10/dist-packages (from requests->transformers) (2.0.7)\n",
            "Requirement already satisfied: certifi>=2017.4.17 in /usr/local/lib/python3.10/dist-packages (from requests->transformers) (2024.2.2)\n"
          ]
        }
      ]
    },
    {
      "cell_type": "code",
      "source": [
        "from transformers import pipeline, set_seed\n",
        "import textwrap\n",
        "import numpy as np\n",
        "import matplotlib.pyplot as plt\n",
        "from pprint import pprint"
      ],
      "metadata": {
        "id": "b7GARUhNI-E5"
      },
      "execution_count": 69,
      "outputs": []
    },
    {
      "cell_type": "code",
      "source": [
        "!cat robert_forst.txt"
      ],
      "metadata": {
        "colab": {
          "base_uri": "https://localhost:8080/"
        },
        "id": "kY_9H7o2dYpz",
        "outputId": "d18eff04-a50b-4677-ab3c-ef131631fc8b"
      },
      "execution_count": 70,
      "outputs": [
        {
          "output_type": "stream",
          "name": "stdout",
          "text": [
            "cat: robert_forst.txt: No such file or directory\n"
          ]
        }
      ]
    },
    {
      "cell_type": "code",
      "source": [
        "#يتم إنشاء مولد النصوص باستخدام pipeline(\"text-generation\").\n",
        "gen = pipeline(\"text-generation\",model=\"elgeish/gpt2-medium-arabic-poetry\")"
      ],
      "metadata": {
        "id": "as_1N_0sdkd7"
      },
      "execution_count": 71,
      "outputs": []
    },
    {
      "cell_type": "code",
      "source": [
        "# تم تحديد بذرة عشوائية باستخدام set_seed(1234) لضمان تكرارية النتائج.\n",
        "set_seed(1234)"
      ],
      "metadata": {
        "id": "wXehtLNE6DjW"
      },
      "execution_count": 55,
      "outputs": []
    },
    {
      "cell_type": "code",
      "source": [
        "txt='الشبكات العصبية'\n",
        "gen(txt,max_length=100)"
      ],
      "metadata": {
        "colab": {
          "base_uri": "https://localhost:8080/"
        },
        "id": "f-Fp2LYF6iDP",
        "outputId": "b39fc7fb-c9d3-4c95-8c45-c998b91adf46"
      },
      "execution_count": 57,
      "outputs": [
        {
          "output_type": "stream",
          "name": "stderr",
          "text": [
            "Truncation was not explicitly activated but `max_length` is provided a specific value, please use `truncation=True` to explicitly truncate examples to max length. Defaulting to 'longest_first' truncation strategy. If you encode pairs of sequences (GLUE-style) with the tokenizer you can select this strategy more precisely by providing a specific strategy to `truncation`.\n",
            "Setting `pad_token_id` to `eos_token_id`:0 for open-end generation.\n"
          ]
        },
        {
          "output_type": "execute_result",
          "data": {
            "text/plain": [
              "[{'generated_text': 'الشبكات العصبية التي لا تفتح الا في مقاهي الرصيف ولا تخلعين معطفك الشتوي المطرز بالشتاءي لكنك لن تستطيعي ان تلبسي قفطانك الصيفي والشتاءي الملطخ بالتبغ والبياض علي جبينك الايمن حتي اخر نقطة من شعرك المزروع بالكحول والدموع المسيلة لدموع المسيلة لحداءق النساء الواتي لا يدخلن معك شيءا سوي النوم ليلا ونهارا وصبحا كاملا من الشعر وحدك انت الوحيدة التي يمكن ان تبرع لي باصابعك اليلية'}]"
            ]
          },
          "metadata": {},
          "execution_count": 57
        }
      ]
    },
    {
      "cell_type": "code",
      "source": [
        "pprint(_)"
      ],
      "metadata": {
        "colab": {
          "base_uri": "https://localhost:8080/"
        },
        "id": "R5rs1K9c7CS6",
        "outputId": "e86bd61c-9fb9-4f91-d8a1-cb2c3d77bafe"
      },
      "execution_count": 72,
      "outputs": [
        {
          "output_type": "stream",
          "name": "stdout",
          "text": [
            "[{'generated_text': ' الشبكات العصبية التي تستخدم التركيز قد استُخدمت بنجاح '\n",
            "                    'كبير في مجالات مختلفة لكنها لم تجد فرص كافية لصنع شيء '\n",
            "                    'جديد علي الاطلاق لقد نجحت في اعداد نوع جديد من الهندسة '\n",
            "                    'الفراغية يمكنك ان تختاره بنفسك عن طريق الصدفة او الصدفة '\n",
            "                    'دون الحاجة الي الت'}]\n"
          ]
        }
      ]
    },
    {
      "cell_type": "code",
      "source": [
        "pprint(gen('  تخلعين معطفك الشتوي المطرز بالشتاءي لكنك لن تستطيعي ان',max_length=40))"
      ],
      "metadata": {
        "colab": {
          "base_uri": "https://localhost:8080/"
        },
        "id": "H_wMuFP17FiO",
        "outputId": "5ee6c826-0db6-4ef6-bc4c-4e6dd000dfca"
      },
      "execution_count": 80,
      "outputs": [
        {
          "output_type": "stream",
          "name": "stderr",
          "text": [
            "Setting `pad_token_id` to `eos_token_id`:0 for open-end generation.\n"
          ]
        },
        {
          "output_type": "stream",
          "name": "stdout",
          "text": [
            "[{'generated_text': '  تخلعين معطفك الشتوي المطرز بالشتاءي لكنك لن تستطيعي ان '\n",
            "                    'تلبسي قبعة جديدة او زجاجة من نبيذ و لكن لا استطيع ان '\n",
            "                    'اقاوم هذا البرد الشتاءي'}]\n"
          ]
        }
      ]
    },
    {
      "cell_type": "code",
      "source": [
        "pprint(gen('امراة وحيدة انت التي لم تعد تملكين حقلا من الياسمين ما ',num_return_sequences=4,max_length=30))"
      ],
      "metadata": {
        "colab": {
          "base_uri": "https://localhost:8080/"
        },
        "id": "W8tPjL828XE6",
        "outputId": "94cfc5cc-cec7-40ed-c42e-92c5bfa65ca0"
      },
      "execution_count": 79,
      "outputs": [
        {
          "output_type": "stream",
          "name": "stderr",
          "text": [
            "Setting `pad_token_id` to `eos_token_id`:0 for open-end generation.\n"
          ]
        },
        {
          "output_type": "stream",
          "name": "stdout",
          "text": [
            "[{'generated_text': 'امراة وحيدة انت التي لم تعد تملكين حقلا من الياسمين ما '\n",
            "                    'يبدا في اخر اليل وينتهي في اخر الصيف يا سيدتي لا اعرف'},\n",
            " {'generated_text': 'امراة وحيدة انت التي لم تعد تملكين حقلا من الياسمين ما '\n",
            "                    'يبدا في اخر اليل وينتهي في اخر الصيف يا سيدتي ليس لي'},\n",
            " {'generated_text': 'امراة وحيدة انت التي لم تعد تملكين حقلا من الياسمين ما '\n",
            "                    'يبدا في اخر اليل وينتهي في اخر الصيف يا سيدتي ليس ثمة'},\n",
            " {'generated_text': 'امراة وحيدة انت التي لم تعد تملكين حقلا من الياسمين ما '\n",
            "                    'يبدا في اخر اليل وينتهي في اخر النهارما الذي يفعله كل'}]\n"
          ]
        }
      ]
    },
    {
      "cell_type": "code",
      "source": [
        "def wrap(x):\n",
        "  return textwrap.fill(x,replace_whitespace=False,fix_sentence_endings=True)"
      ],
      "metadata": {
        "id": "dnP_fv758zmQ"
      },
      "execution_count": 75,
      "outputs": []
    },
    {
      "cell_type": "code",
      "source": [
        "print(wrap(gen(' امراة وحيدة انت التي لم تعد تملكين حقلا من الياسمين ما',max_length=20)[0]['generated_text']))"
      ],
      "metadata": {
        "colab": {
          "base_uri": "https://localhost:8080/"
        },
        "id": "cDJNWk9d89wp",
        "outputId": "9451b023-4353-446c-d62c-6a91edea75b6"
      },
      "execution_count": 76,
      "outputs": [
        {
          "output_type": "stream",
          "name": "stderr",
          "text": [
            "Setting `pad_token_id` to `eos_token_id`:0 for open-end generation.\n"
          ]
        },
        {
          "output_type": "stream",
          "name": "stdout",
          "text": [
            " امراة وحيدة انت التي لم تعد تملكين حقلا من الياسمين ما الذي تخبءين في\n",
            "حقيب\n"
          ]
        }
      ]
    },
    {
      "cell_type": "code",
      "source": [
        "print(wrap(gen( 'امراة وحيدة انت التي لم تعد تملكين حقلا من الياسمين ما ',max_length=50)[0]['generated_text']))"
      ],
      "metadata": {
        "colab": {
          "base_uri": "https://localhost:8080/"
        },
        "id": "CDUGb63I9YQA",
        "outputId": "fbfca42a-7edb-401e-c09c-5df0cc7eefc0"
      },
      "execution_count": 78,
      "outputs": [
        {
          "output_type": "stream",
          "name": "stderr",
          "text": [
            "Setting `pad_token_id` to `eos_token_id`:0 for open-end generation.\n"
          ]
        },
        {
          "output_type": "stream",
          "name": "stdout",
          "text": [
            "امراة وحيدة انت التي لم تعد تملكين حقلا من الياسمين ما يبل ظلك في\n",
            "العراء ولا تدركين اني احلم ان اراك كما كنت دوما بدونك او تحتضرين لا\n",
            "تبحثي عني فانا لست املك الا\n"
          ]
        }
      ]
    }
  ]
}