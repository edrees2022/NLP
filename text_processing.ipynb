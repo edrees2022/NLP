{
  "nbformat": 4,
  "nbformat_minor": 0,
  "metadata": {
    "colab": {
      "provenance": [],
      "toc_visible": true
    },
    "kernelspec": {
      "name": "python3",
      "display_name": "Python 3"
    },
    "language_info": {
      "name": "python"
    }
  },
  "cells": [
    {
      "cell_type": "markdown",
      "source": [
        "# Text Processing\n",
        "##Capturing Text Data\n",
        "Plain Text"
      ],
      "metadata": {
        "id": "biiguXsUpuXQ"
      }
    },
    {
      "cell_type": "code",
      "source": [
        "from google.colab import drive\n",
        "drive.mount('/content/drive')\n",
        "\n",
        "\n",
        "!wget -O hieroglyph.txt \"https://drive.google.com/file/d/1TCW54bo7poF5BTp47DivM1Nja0hptZLw/view?usp=drive_link\"\n",
        "!wget -O news.csv \"https://drive.google.com/file/d/1KAd-uEjfw-ySfGU_Orr9dBM46ldENXeA/view?usp=drive_link\"\n",
        "with open(\"hieroglyph.txt\", \"r\") as f:\n",
        "  text = f.read()\n",
        "  print(text)"
      ],
      "metadata": {
        "id": "l866WQk4qI5G"
      },
      "execution_count": null,
      "outputs": []
    },
    {
      "cell_type": "markdown",
      "source": [
        "Hieroglyphic writing dates from c. 3000 BC, and is composed of hundreds of symbols. A hieroglyph can represent a word, a sound, or a silent determinative; and the same symbol can serve different purposes in different contexts. Hieroglyphs were a formal script, used on stone monuments and in tombs, that could be as detailed as individual works of art.# New Section"
      ],
      "metadata": {
        "id": "5WGJ2v7sxVSv"
      }
    },
    {
      "cell_type": "markdown",
      "source": [
        "# Tabular Data"
      ],
      "metadata": {
        "id": "_EL_-bfCxTaG"
      }
    },
    {
      "cell_type": "code",
      "source": [
        "import pandas as pd\n",
        "\n",
        "# Extract text column from a dataframe\n",
        "df = pd.read_csv(\"/content/drive/MyDrive/Udacity-Natural-Language-Processing-Nanodegree-master/1. Tutorial Text Processing/data/news.csv\", error_bad_lines=False)\n",
        "df.head()[['publisher', 'title']]\n",
        "\n",
        "#convert text column to lowercase\n",
        "df['title']= df['title'].str.lower()\n",
        "df.head()[['publisher','title']]"
      ],
      "metadata": {
        "id": "Sg4OuZ-cxtGq"
      },
      "execution_count": null,
      "outputs": []
    },
    {
      "cell_type": "markdown",
      "source": [
        "# Online Resource"
      ],
      "metadata": {
        "id": "Fgxt1IJZ3aj4"
      }
    },
    {
      "cell_type": "code",
      "source": [
        "import requests\n",
        "import json\n",
        "\n",
        "# fetch data from a rest api\n",
        "r = requests.get(\"https://quotes.rest/qod\")\n",
        "res=r.json()\n",
        "print(json.dumps(res, indent=4))\n",
        "\n",
        "# Extract relavant object and field\n",
        "q=res[\"contents\"][\"quotes\"][0]\n",
        "print(q[\"qoute\"], \"n\\--\", q[\"author\"])"
      ],
      "metadata": {
        "id": "iyt-Pn0J3f1k"
      },
      "execution_count": null,
      "outputs": []
    },
    {
      "cell_type": "markdown",
      "source": [
        "# Cleaning"
      ],
      "metadata": {
        "id": "QpcetVz564oQ"
      }
    },
    {
      "cell_type": "code",
      "source": [
        "import requests\n",
        "\n",
        "# Fetch a web page\n",
        "r = requests.get(\"https://news.ycombinator.com\")\n",
        "print(r.text)"
      ],
      "metadata": {
        "colab": {
          "base_uri": "https://localhost:8080/"
        },
        "id": "tK2phBKx67nz",
        "outputId": "c22c28a5-4402-43a3-c373-2a73ca0b99df"
      },
      "execution_count": null,
      "outputs": [
        {
          "output_type": "stream",
          "name": "stdout",
          "text": [
            "<html lang=\"en\" op=\"news\"><head><meta name=\"referrer\" content=\"origin\"><meta name=\"viewport\" content=\"width=device-width, initial-scale=1.0\"><link rel=\"stylesheet\" type=\"text/css\" href=\"news.css?CtBHyqNFP5b5B4B6W5uN\">\n",
            "        <link rel=\"shortcut icon\" href=\"favicon.ico\">\n",
            "          <link rel=\"alternate\" type=\"application/rss+xml\" title=\"RSS\" href=\"rss\">\n",
            "        <title>Hacker News</title></head><body><center><table id=\"hnmain\" border=\"0\" cellpadding=\"0\" cellspacing=\"0\" width=\"85%\" bgcolor=\"#f6f6ef\">\n",
            "        <tr><td bgcolor=\"#ff6600\"><table border=\"0\" cellpadding=\"0\" cellspacing=\"0\" width=\"100%\" style=\"padding:2px\"><tr><td style=\"width:18px;padding-right:4px\"><a href=\"https://news.ycombinator.com\"><img src=\"y18.svg\" width=\"18\" height=\"18\" style=\"border:1px white solid; display:block\"></a></td>\n",
            "                  <td style=\"line-height:12pt; height:10px;\"><span class=\"pagetop\"><b class=\"hnname\"><a href=\"news\">Hacker News</a></b>\n",
            "                            <a href=\"newest\">new</a> | <a href=\"front\">past</a> | <a href=\"newcomments\">comments</a> | <a href=\"ask\">ask</a> | <a href=\"show\">show</a> | <a href=\"jobs\">jobs</a> | <a href=\"submit\">submit</a>            </span></td><td style=\"text-align:right;padding-right:4px;\"><span class=\"pagetop\">\n",
            "                              <a href=\"login?goto=news\">login</a>\n",
            "                          </span></td>\n",
            "              </tr></table></td></tr>\n",
            "<tr id=\"pagespace\" title=\"\" style=\"height:10px\"></tr><tr><td><table border=\"0\" cellpadding=\"0\" cellspacing=\"0\">\n",
            "            <tr class='athing' id='37052586'>\n",
            "      <td align=\"right\" valign=\"top\" class=\"title\"><span class=\"rank\">1.</span></td>      <td valign=\"top\" class=\"votelinks\"><center><a id='up_37052586'href='vote?id=37052586&amp;how=up&amp;goto=news'><div class='votearrow' title='upvote'></div></a></center></td><td class=\"title\"><span class=\"titleline\"><a href=\"https://downfall.page/\" rel=\"noreferrer\">Downfall Attacks</a><span class=\"sitebit comhead\"> (<a href=\"from?site=downfall.page\"><span class=\"sitestr\">downfall.page</span></a>)</span></span></td></tr><tr><td colspan=\"2\"></td><td class=\"subtext\"><span class=\"subline\">\n",
            "          <span class=\"score\" id=\"score_37052586\">760 points</span> by <a href=\"user?id=WalterSobchak\" class=\"hnuser\">WalterSobchak</a> <span class=\"age\" title=\"2023-08-08T17:27:38\"><a href=\"item?id=37052586\">8 hours ago</a></span> <span id=\"unv_37052586\"></span> | <a href=\"hide?id=37052586&amp;goto=news\">hide</a> | <a href=\"item?id=37052586\">217&nbsp;comments</a>        </span>\n",
            "              </td></tr>\n",
            "      <tr class=\"spacer\" style=\"height:5px\"></tr>\n",
            "                <tr class='athing' id='37057332'>\n",
            "      <td align=\"right\" valign=\"top\" class=\"title\"><span class=\"rank\">2.</span></td>      <td valign=\"top\" class=\"votelinks\"><center><a id='up_37057332'href='vote?id=37057332&amp;how=up&amp;goto=news'><div class='votearrow' title='upvote'></div></a></center></td><td class=\"title\"><span class=\"titleline\"><a href=\"https://christianjmills.com/posts/arc-a770-testing/part-2/\" rel=\"noreferrer\">Testing Intel’s Arc A770 GPU for Deep Learning</a><span class=\"sitebit comhead\"> (<a href=\"from?site=christianjmills.com\"><span class=\"sitestr\">christianjmills.com</span></a>)</span></span></td></tr><tr><td colspan=\"2\"></td><td class=\"subtext\"><span class=\"subline\">\n",
            "          <span class=\"score\" id=\"score_37057332\">39 points</span> by <a href=\"user?id=T-A\" class=\"hnuser\">T-A</a> <span class=\"age\" title=\"2023-08-09T00:35:40\"><a href=\"item?id=37057332\">1 hour ago</a></span> <span id=\"unv_37057332\"></span> | <a href=\"hide?id=37057332&amp;goto=news\">hide</a> | <a href=\"item?id=37057332\">9&nbsp;comments</a>        </span>\n",
            "              </td></tr>\n",
            "      <tr class=\"spacer\" style=\"height:5px\"></tr>\n",
            "                <tr class='athing' id='37055479'>\n",
            "      <td align=\"right\" valign=\"top\" class=\"title\"><span class=\"rank\">3.</span></td>      <td valign=\"top\" class=\"votelinks\"><center><a id='up_37055479'href='vote?id=37055479&amp;how=up&amp;goto=news'><div class='votearrow' title='upvote'></div></a></center></td><td class=\"title\"><span class=\"titleline\"><a href=\"https://security.googleblog.com/2023/08/android-14-introduces-first-of-its-kind.html\" rel=\"noreferrer\">Android 14 introduces cellular connectivity security features</a><span class=\"sitebit comhead\"> (<a href=\"from?site=googleblog.com\"><span class=\"sitestr\">googleblog.com</span></a>)</span></span></td></tr><tr><td colspan=\"2\"></td><td class=\"subtext\"><span class=\"subline\">\n",
            "          <span class=\"score\" id=\"score_37055479\">175 points</span> by <a href=\"user?id=akyuu\" class=\"hnuser\">akyuu</a> <span class=\"age\" title=\"2023-08-08T21:07:44\"><a href=\"item?id=37055479\">4 hours ago</a></span> <span id=\"unv_37055479\"></span> | <a href=\"hide?id=37055479&amp;goto=news\">hide</a> | <a href=\"item?id=37055479\">81&nbsp;comments</a>        </span>\n",
            "              </td></tr>\n",
            "      <tr class=\"spacer\" style=\"height:5px\"></tr>\n",
            "                <tr class='athing' id='37047053'>\n",
            "      <td align=\"right\" valign=\"top\" class=\"title\"><span class=\"rank\">4.</span></td>      <td valign=\"top\" class=\"votelinks\"><center><a id='up_37047053'href='vote?id=37047053&amp;how=up&amp;goto=news'><div class='votearrow' title='upvote'></div></a></center></td><td class=\"title\"><span class=\"titleline\"><a href=\"https://pr.tsmc.com/english/news/3049\" rel=\"noreferrer\">TSMC, Bosch, Infineon, NXP to jointly build semiconductor fab in Europe</a><span class=\"sitebit comhead\"> (<a href=\"from?site=tsmc.com\"><span class=\"sitestr\">tsmc.com</span></a>)</span></span></td></tr><tr><td colspan=\"2\"></td><td class=\"subtext\"><span class=\"subline\">\n",
            "          <span class=\"score\" id=\"score_37047053\">713 points</span> by <a href=\"user?id=king_phil\" class=\"hnuser\">king_phil</a> <span class=\"age\" title=\"2023-08-08T10:48:20\"><a href=\"item?id=37047053\">14 hours ago</a></span> <span id=\"unv_37047053\"></span> | <a href=\"hide?id=37047053&amp;goto=news\">hide</a> | <a href=\"item?id=37047053\">402&nbsp;comments</a>        </span>\n",
            "              </td></tr>\n",
            "      <tr class=\"spacer\" style=\"height:5px\"></tr>\n",
            "                <tr class='athing' id='37055368'>\n",
            "      <td align=\"right\" valign=\"top\" class=\"title\"><span class=\"rank\">5.</span></td>      <td valign=\"top\" class=\"votelinks\"><center><a id='up_37055368'href='vote?id=37055368&amp;how=up&amp;goto=news'><div class='votearrow' title='upvote'></div></a></center></td><td class=\"title\"><span class=\"titleline\"><a href=\"https://packaging-con.org\" rel=\"noreferrer\">PackagingCon – a conference only for software package management</a><span class=\"sitebit comhead\"> (<a href=\"from?site=packaging-con.org\"><span class=\"sitestr\">packaging-con.org</span></a>)</span></span></td></tr><tr><td colspan=\"2\"></td><td class=\"subtext\"><span class=\"subline\">\n",
            "          <span class=\"score\" id=\"score_37055368\">79 points</span> by <a href=\"user?id=droelf\" class=\"hnuser\">droelf</a> <span class=\"age\" title=\"2023-08-08T20:59:18\"><a href=\"item?id=37055368\">4 hours ago</a></span> <span id=\"unv_37055368\"></span> | <a href=\"hide?id=37055368&amp;goto=news\">hide</a> | <a href=\"item?id=37055368\">59&nbsp;comments</a>        </span>\n",
            "              </td></tr>\n",
            "      <tr class=\"spacer\" style=\"height:5px\"></tr>\n",
            "                <tr class='athing' id='37054361'>\n",
            "      <td align=\"right\" valign=\"top\" class=\"title\"><span class=\"rank\">6.</span></td>      <td valign=\"top\" class=\"votelinks\"><center><a id='up_37054361'href='vote?id=37054361&amp;how=up&amp;goto=news'><div class='votearrow' title='upvote'></div></a></center></td><td class=\"title\"><span class=\"titleline\"><a href=\"https://linuxgizmos.com/low-cost-smartwatch-powered-by-esp32-s3-module/\" rel=\"noreferrer\">Low-cost Smartwatch powered by ESP32 module</a><span class=\"sitebit comhead\"> (<a href=\"from?site=linuxgizmos.com\"><span class=\"sitestr\">linuxgizmos.com</span></a>)</span></span></td></tr><tr><td colspan=\"2\"></td><td class=\"subtext\"><span class=\"subline\">\n",
            "          <span class=\"score\" id=\"score_37054361\">128 points</span> by <a href=\"user?id=ofrzeta\" class=\"hnuser\">ofrzeta</a> <span class=\"age\" title=\"2023-08-08T19:35:48\"><a href=\"item?id=37054361\">6 hours ago</a></span> <span id=\"unv_37054361\"></span> | <a href=\"hide?id=37054361&amp;goto=news\">hide</a> | <a href=\"item?id=37054361\">33&nbsp;comments</a>        </span>\n",
            "              </td></tr>\n",
            "      <tr class=\"spacer\" style=\"height:5px\"></tr>\n",
            "                <tr class='athing' id='37052622'>\n",
            "      <td align=\"right\" valign=\"top\" class=\"title\"><span class=\"rank\">7.</span></td>      <td valign=\"top\" class=\"votelinks\"><center><a id='up_37052622'href='vote?id=37052622&amp;how=up&amp;goto=news'><div class='votearrow' title='upvote'></div></a></center></td><td class=\"title\"><span class=\"titleline\"><a href=\"https://dukope.itch.io/lcd-please\" rel=\"noreferrer\">LCD, Please</a><span class=\"sitebit comhead\"> (<a href=\"from?site=dukope.itch.io\"><span class=\"sitestr\">dukope.itch.io</span></a>)</span></span></td></tr><tr><td colspan=\"2\"></td><td class=\"subtext\"><span class=\"subline\">\n",
            "          <span class=\"score\" id=\"score_37052622\">313 points</span> by <a href=\"user?id=abra0\" class=\"hnuser\">abra0</a> <span class=\"age\" title=\"2023-08-08T17:30:09\"><a href=\"item?id=37052622\">8 hours ago</a></span> <span id=\"unv_37052622\"></span> | <a href=\"hide?id=37052622&amp;goto=news\">hide</a> | <a href=\"item?id=37052622\">70&nbsp;comments</a>        </span>\n",
            "              </td></tr>\n",
            "      <tr class=\"spacer\" style=\"height:5px\"></tr>\n",
            "                <tr class='athing' id='37054670'>\n",
            "      <td align=\"right\" valign=\"top\" class=\"title\"><span class=\"rank\">8.</span></td>      <td valign=\"top\" class=\"votelinks\"><center><a id='up_37054670'href='vote?id=37054670&amp;how=up&amp;goto=news'><div class='votearrow' title='upvote'></div></a></center></td><td class=\"title\"><span class=\"titleline\"><a href=\"https://mcaptcha.org/\" rel=\"noreferrer\">mCaptcha: Open-source proof-of-work captcha for websites</a><span class=\"sitebit comhead\"> (<a href=\"from?site=mcaptcha.org\"><span class=\"sitestr\">mcaptcha.org</span></a>)</span></span></td></tr><tr><td colspan=\"2\"></td><td class=\"subtext\"><span class=\"subline\">\n",
            "          <span class=\"score\" id=\"score_37054670\">97 points</span> by <a href=\"user?id=notpushkin\" class=\"hnuser\">notpushkin</a> <span class=\"age\" title=\"2023-08-08T19:59:58\"><a href=\"item?id=37054670\">5 hours ago</a></span> <span id=\"unv_37054670\"></span> | <a href=\"hide?id=37054670&amp;goto=news\">hide</a> | <a href=\"item?id=37054670\">57&nbsp;comments</a>        </span>\n",
            "              </td></tr>\n",
            "      <tr class=\"spacer\" style=\"height:5px\"></tr>\n",
            "                <tr class='athing' id='37054862'>\n",
            "      <td align=\"right\" valign=\"top\" class=\"title\"><span class=\"rank\">9.</span></td>      <td valign=\"top\" class=\"votelinks\"><center><a id='up_37054862'href='vote?id=37054862&amp;how=up&amp;goto=news'><div class='votearrow' title='upvote'></div></a></center></td><td class=\"title\"><span class=\"titleline\"><a href=\"https://milksad.info/\" rel=\"noreferrer\">Milk Sad: Weak Entropy in libbitcoin (bc) seed generation</a><span class=\"sitebit comhead\"> (<a href=\"from?site=milksad.info\"><span class=\"sitestr\">milksad.info</span></a>)</span></span></td></tr><tr><td colspan=\"2\"></td><td class=\"subtext\"><span class=\"subline\">\n",
            "          <span class=\"score\" id=\"score_37054862\">93 points</span> by <a href=\"user?id=dgrove\" class=\"hnuser\">dgrove</a> <span class=\"age\" title=\"2023-08-08T20:14:01\"><a href=\"item?id=37054862\">5 hours ago</a></span> <span id=\"unv_37054862\"></span> | <a href=\"hide?id=37054862&amp;goto=news\">hide</a> | <a href=\"item?id=37054862\">75&nbsp;comments</a>        </span>\n",
            "              </td></tr>\n",
            "      <tr class=\"spacer\" style=\"height:5px\"></tr>\n",
            "                <tr class='athing' id='37055989'>\n",
            "      <td align=\"right\" valign=\"top\" class=\"title\"><span class=\"rank\">10.</span></td>      <td valign=\"top\" class=\"votelinks\"><center><a id='up_37055989'href='vote?id=37055989&amp;how=up&amp;goto=news'><div class='votearrow' title='upvote'></div></a></center></td><td class=\"title\"><span class=\"titleline\"><a href=\"https://unity.com/solutions/unity-weta-tools\" rel=\"noreferrer\">Unity Weta Tools</a><span class=\"sitebit comhead\"> (<a href=\"from?site=unity.com\"><span class=\"sitestr\">unity.com</span></a>)</span></span></td></tr><tr><td colspan=\"2\"></td><td class=\"subtext\"><span class=\"subline\">\n",
            "          <span class=\"score\" id=\"score_37055989\">45 points</span> by <a href=\"user?id=Chazprime\" class=\"hnuser\">Chazprime</a> <span class=\"age\" title=\"2023-08-08T21:57:10\"><a href=\"item?id=37055989\">3 hours ago</a></span> <span id=\"unv_37055989\"></span> | <a href=\"hide?id=37055989&amp;goto=news\">hide</a> | <a href=\"item?id=37055989\">22&nbsp;comments</a>        </span>\n",
            "              </td></tr>\n",
            "      <tr class=\"spacer\" style=\"height:5px\"></tr>\n",
            "                <tr class='athing' id='37055514'>\n",
            "      <td align=\"right\" valign=\"top\" class=\"title\"><span class=\"rank\">11.</span></td>      <td valign=\"top\" class=\"votelinks\"><center><a id='up_37055514'href='vote?id=37055514&amp;how=up&amp;goto=news'><div class='votearrow' title='upvote'></div></a></center></td><td class=\"title\"><span class=\"titleline\"><a href=\"https://drive.google.com/file/d/1ekD2KVV_SUid2wH__o1ODS3hTl1GUFb5/view\" rel=\"noreferrer\">LK-99: Phonon bands, Localized Flat Band Magnetism, Models and Chemical Analysis</a><span class=\"sitebit comhead\"> (<a href=\"from?site=drive.google.com\"><span class=\"sitestr\">drive.google.com</span></a>)</span></span></td></tr><tr><td colspan=\"2\"></td><td class=\"subtext\"><span class=\"subline\">\n",
            "          <span class=\"score\" id=\"score_37055514\">54 points</span> by <a href=\"user?id=carabiner\" class=\"hnuser\">carabiner</a> <span class=\"age\" title=\"2023-08-08T21:11:30\"><a href=\"item?id=37055514\">4 hours ago</a></span> <span id=\"unv_37055514\"></span> | <a href=\"hide?id=37055514&amp;goto=news\">hide</a> | <a href=\"item?id=37055514\">51&nbsp;comments</a>        </span>\n",
            "              </td></tr>\n",
            "      <tr class=\"spacer\" style=\"height:5px\"></tr>\n",
            "                <tr class='athing' id='37049016'>\n",
            "      <td align=\"right\" valign=\"top\" class=\"title\"><span class=\"rank\">12.</span></td>      <td valign=\"top\" class=\"votelinks\"><center><a id='up_37049016'href='vote?id=37049016&amp;how=up&amp;goto=news'><div class='votearrow' title='upvote'></div></a></center></td><td class=\"title\"><span class=\"titleline\"><a href=\"https://jrhawley.ca/2023/08/07/blocked-by-cloudflare\" rel=\"noreferrer\">Blocked by Cloudflare</a><span class=\"sitebit comhead\"> (<a href=\"from?site=jrhawley.ca\"><span class=\"sitestr\">jrhawley.ca</span></a>)</span></span></td></tr><tr><td colspan=\"2\"></td><td class=\"subtext\"><span class=\"subline\">\n",
            "          <span class=\"score\" id=\"score_37049016\">432 points</span> by <a href=\"user?id=jrhawley\" class=\"hnuser\">jrhawley</a> <span class=\"age\" title=\"2023-08-08T13:55:46\"><a href=\"item?id=37049016\">11 hours ago</a></span> <span id=\"unv_37049016\"></span> | <a href=\"hide?id=37049016&amp;goto=news\">hide</a> | <a href=\"item?id=37049016\">286&nbsp;comments</a>        </span>\n",
            "              </td></tr>\n",
            "      <tr class=\"spacer\" style=\"height:5px\"></tr>\n",
            "                <tr class='athing' id='37055210'>\n",
            "      <td align=\"right\" valign=\"top\" class=\"title\"><span class=\"rank\">13.</span></td>      <td valign=\"top\" class=\"votelinks\"><center><a id='up_37055210'href='vote?id=37055210&amp;how=up&amp;goto=news'><div class='votearrow' title='upvote'></div></a></center></td><td class=\"title\"><span class=\"titleline\"><a href=\"https://www.fda.gov/news-events/press-announcements/fda-approves-first-oral-treatment-postpartum-depression\" rel=\"noreferrer\">FDA Approves First Oral Treatment for Postpartum Depression</a><span class=\"sitebit comhead\"> (<a href=\"from?site=fda.gov\"><span class=\"sitestr\">fda.gov</span></a>)</span></span></td></tr><tr><td colspan=\"2\"></td><td class=\"subtext\"><span class=\"subline\">\n",
            "          <span class=\"score\" id=\"score_37055210\">48 points</span> by <a href=\"user?id=gmays\" class=\"hnuser\">gmays</a> <span class=\"age\" title=\"2023-08-08T20:45:14\"><a href=\"item?id=37055210\">5 hours ago</a></span> <span id=\"unv_37055210\"></span> | <a href=\"hide?id=37055210&amp;goto=news\">hide</a> | <a href=\"item?id=37055210\">65&nbsp;comments</a>        </span>\n",
            "              </td></tr>\n",
            "      <tr class=\"spacer\" style=\"height:5px\"></tr>\n",
            "                <tr class='athing' id='37055280'>\n",
            "      <td align=\"right\" valign=\"top\" class=\"title\"><span class=\"rank\">14.</span></td>      <td valign=\"top\" class=\"votelinks\"><center><a id='up_37055280'href='vote?id=37055280&amp;how=up&amp;goto=news'><div class='votearrow' title='upvote'></div></a></center></td><td class=\"title\"><span class=\"titleline\"><a href=\"https://jaredramsey.com/blog/20230808.html\" rel=\"noreferrer\">The Last 1%</a><span class=\"sitebit comhead\"> (<a href=\"from?site=jaredramsey.com\"><span class=\"sitestr\">jaredramsey.com</span></a>)</span></span></td></tr><tr><td colspan=\"2\"></td><td class=\"subtext\"><span class=\"subline\">\n",
            "          <span class=\"score\" id=\"score_37055280\">88 points</span> by <a href=\"user?id=jram930\" class=\"hnuser\">jram930</a> <span class=\"age\" title=\"2023-08-08T20:51:20\"><a href=\"item?id=37055280\">4 hours ago</a></span> <span id=\"unv_37055280\"></span> | <a href=\"hide?id=37055280&amp;goto=news\">hide</a> | <a href=\"item?id=37055280\">41&nbsp;comments</a>        </span>\n",
            "              </td></tr>\n",
            "      <tr class=\"spacer\" style=\"height:5px\"></tr>\n",
            "                <tr class='athing' id='37055391'>\n",
            "      <td align=\"right\" valign=\"top\" class=\"title\"><span class=\"rank\">15.</span></td>      <td><img src=\"s.gif\" height=\"1\" width=\"14\"></td>       <td class=\"title\"><span class=\"titleline\"><a href=\"https://www.ycombinator.com/companies/aviator/jobs\">Aviator (YC S21) is hiring engineers to build dev productivity platform</a><span class=\"sitebit comhead\"> (<a href=\"from?site=ycombinator.com\"><span class=\"sitestr\">ycombinator.com</span></a>)</span></span></td></tr><tr><td colspan=\"2\"></td><td class=\"subtext\">\n",
            "        <span class=\"age\" title=\"2023-08-08T21:00:54\"><a href=\"item?id=37055391\">4 hours ago</a></span> | <a href=\"hide?id=37055391&amp;goto=news\">hide</a>      </td></tr>\n",
            "      <tr class=\"spacer\" style=\"height:5px\"></tr>\n",
            "                <tr class='athing' id='37055263'>\n",
            "      <td align=\"right\" valign=\"top\" class=\"title\"><span class=\"rank\">16.</span></td>      <td valign=\"top\" class=\"votelinks\"><center><a id='up_37055263'href='vote?id=37055263&amp;how=up&amp;goto=news'><div class='votearrow' title='upvote'></div></a></center></td><td class=\"title\"><span class=\"titleline\"><a href=\"https://gcaptain.com/panama-canal-draught-restrictions-spark-liner-surcharges/\" rel=\"noreferrer\">Panama Canal draught restrictions spark liner surcharges</a><span class=\"sitebit comhead\"> (<a href=\"from?site=gcaptain.com\"><span class=\"sitestr\">gcaptain.com</span></a>)</span></span></td></tr><tr><td colspan=\"2\"></td><td class=\"subtext\"><span class=\"subline\">\n",
            "          <span class=\"score\" id=\"score_37055263\">38 points</span> by <a href=\"user?id=Stratoscope\" class=\"hnuser\">Stratoscope</a> <span class=\"age\" title=\"2023-08-08T20:50:25\"><a href=\"item?id=37055263\">4 hours ago</a></span> <span id=\"unv_37055263\"></span> | <a href=\"hide?id=37055263&amp;goto=news\">hide</a> | <a href=\"item?id=37055263\">49&nbsp;comments</a>        </span>\n",
            "              </td></tr>\n",
            "      <tr class=\"spacer\" style=\"height:5px\"></tr>\n",
            "                <tr class='athing' id='37050409'>\n",
            "      <td align=\"right\" valign=\"top\" class=\"title\"><span class=\"rank\">17.</span></td>      <td valign=\"top\" class=\"votelinks\"><center><a id='up_37050409'href='vote?id=37050409&amp;how=up&amp;goto=news'><div class='votearrow' title='upvote'></div></a></center></td><td class=\"title\"><span class=\"titleline\"><a href=\"https://stability.ai/blog/stablecode-llm-generative-ai-coding\" rel=\"noreferrer\">StableCode</a><span class=\"sitebit comhead\"> (<a href=\"from?site=stability.ai\"><span class=\"sitestr\">stability.ai</span></a>)</span></span></td></tr><tr><td colspan=\"2\"></td><td class=\"subtext\"><span class=\"subline\">\n",
            "          <span class=\"score\" id=\"score_37050409\">197 points</span> by <a href=\"user?id=kpozin\" class=\"hnuser\">kpozin</a> <span class=\"age\" title=\"2023-08-08T15:25:55\"><a href=\"item?id=37050409\">10 hours ago</a></span> <span id=\"unv_37050409\"></span> | <a href=\"hide?id=37050409&amp;goto=news\">hide</a> | <a href=\"item?id=37050409\">68&nbsp;comments</a>        </span>\n",
            "              </td></tr>\n",
            "      <tr class=\"spacer\" style=\"height:5px\"></tr>\n",
            "                <tr class='athing' id='37052710'>\n",
            "      <td align=\"right\" valign=\"top\" class=\"title\"><span class=\"rank\">18.</span></td>      <td valign=\"top\" class=\"votelinks\"><center><a id='up_37052710'href='vote?id=37052710&amp;how=up&amp;goto=news'><div class='votearrow' title='upvote'></div></a></center></td><td class=\"title\"><span class=\"titleline\"><a href=\"https://www.iflscience.com/life-has-been-found-beneath-hydrothermal-vents-for-the-first-time-70178\" rel=\"noreferrer\">Life has been found beneath hydrothermal vents for the first time</a><span class=\"sitebit comhead\"> (<a href=\"from?site=iflscience.com\"><span class=\"sitestr\">iflscience.com</span></a>)</span></span></td></tr><tr><td colspan=\"2\"></td><td class=\"subtext\"><span class=\"subline\">\n",
            "          <span class=\"score\" id=\"score_37052710\">100 points</span> by <a href=\"user?id=geox\" class=\"hnuser\">geox</a> <span class=\"age\" title=\"2023-08-08T17:36:25\"><a href=\"item?id=37052710\">8 hours ago</a></span> <span id=\"unv_37052710\"></span> | <a href=\"hide?id=37052710&amp;goto=news\">hide</a> | <a href=\"item?id=37052710\">33&nbsp;comments</a>        </span>\n",
            "              </td></tr>\n",
            "      <tr class=\"spacer\" style=\"height:5px\"></tr>\n",
            "                <tr class='athing' id='37048637'>\n",
            "      <td align=\"right\" valign=\"top\" class=\"title\"><span class=\"rank\">19.</span></td>      <td valign=\"top\" class=\"votelinks\"><center><a id='up_37048637'href='vote?id=37048637&amp;how=up&amp;goto=news'><div class='votearrow' title='upvote'></div></a></center></td><td class=\"title\"><span class=\"titleline\"><a href=\"https://www.vice.com/en/article/qjv3yp/amazon-says-it-doesnt-employ-drivers-but-records-show-it-hired-firms-to-prevent-them-from-unionizing\" rel=\"noreferrer\">Amazon doesn&#x27;t &#x27;employ&#x27; drivers, but hired firms to prevent them from unionizing</a><span class=\"sitebit comhead\"> (<a href=\"from?site=vice.com\"><span class=\"sitestr\">vice.com</span></a>)</span></span></td></tr><tr><td colspan=\"2\"></td><td class=\"subtext\"><span class=\"subline\">\n",
            "          <span class=\"score\" id=\"score_37048637\">300 points</span> by <a href=\"user?id=rntn\" class=\"hnuser\">rntn</a> <span class=\"age\" title=\"2023-08-08T13:25:52\"><a href=\"item?id=37048637\">12 hours ago</a></span> <span id=\"unv_37048637\"></span> | <a href=\"hide?id=37048637&amp;goto=news\">hide</a> | <a href=\"item?id=37048637\">301&nbsp;comments</a>        </span>\n",
            "              </td></tr>\n",
            "      <tr class=\"spacer\" style=\"height:5px\"></tr>\n",
            "                <tr class='athing' id='37048938'>\n",
            "      <td align=\"right\" valign=\"top\" class=\"title\"><span class=\"rank\">20.</span></td>      <td valign=\"top\" class=\"votelinks\"><center><a id='up_37048938'href='vote?id=37048938&amp;how=up&amp;goto=news'><div class='votearrow' title='upvote'></div></a></center></td><td class=\"title\"><span class=\"titleline\"><a href=\"https://www.cnbc.com/2023/08/08/regulators-hit-wall-street-banks-with-549-million-in-penalties-for-record-keeping-failures-.html\" rel=\"noreferrer\">Banks hit with millions in fines for using Signal and WhatsApp</a><span class=\"sitebit comhead\"> (<a href=\"from?site=cnbc.com\"><span class=\"sitestr\">cnbc.com</span></a>)</span></span></td></tr><tr><td colspan=\"2\"></td><td class=\"subtext\"><span class=\"subline\">\n",
            "          <span class=\"score\" id=\"score_37048938\">173 points</span> by <a href=\"user?id=ikue\" class=\"hnuser\">ikue</a> <span class=\"age\" title=\"2023-08-08T13:49:35\"><a href=\"item?id=37048938\">11 hours ago</a></span> <span id=\"unv_37048938\"></span> | <a href=\"hide?id=37048938&amp;goto=news\">hide</a> | <a href=\"item?id=37048938\">169&nbsp;comments</a>        </span>\n",
            "              </td></tr>\n",
            "      <tr class=\"spacer\" style=\"height:5px\"></tr>\n",
            "                <tr class='athing' id='37047746'>\n",
            "      <td align=\"right\" valign=\"top\" class=\"title\"><span class=\"rank\">21.</span></td>      <td valign=\"top\" class=\"votelinks\"><center><a id='up_37047746'href='vote?id=37047746&amp;how=up&amp;goto=news'><div class='votearrow' title='upvote'></div></a></center></td><td class=\"title\"><span class=\"titleline\"><a href=\"https://www.adriancooney.ie/blog/web-scraping-via-javascript-heap-snapshots\" rel=\"noreferrer\">Web Scraping via JavaScript Runtime Heap Snapshots (2022)</a><span class=\"sitebit comhead\"> (<a href=\"from?site=adriancooney.ie\"><span class=\"sitestr\">adriancooney.ie</span></a>)</span></span></td></tr><tr><td colspan=\"2\"></td><td class=\"subtext\"><span class=\"subline\">\n",
            "          <span class=\"score\" id=\"score_37047746\">302 points</span> by <a href=\"user?id=djoldman\" class=\"hnuser\">djoldman</a> <span class=\"age\" title=\"2023-08-08T12:09:28\"><a href=\"item?id=37047746\">13 hours ago</a></span> <span id=\"unv_37047746\"></span> | <a href=\"hide?id=37047746&amp;goto=news\">hide</a> | <a href=\"item?id=37047746\">102&nbsp;comments</a>        </span>\n",
            "              </td></tr>\n",
            "      <tr class=\"spacer\" style=\"height:5px\"></tr>\n",
            "                <tr class='athing' id='37053250'>\n",
            "      <td align=\"right\" valign=\"top\" class=\"title\"><span class=\"rank\">22.</span></td>      <td valign=\"top\" class=\"votelinks\"><center><a id='up_37053250'href='vote?id=37053250&amp;how=up&amp;goto=news'><div class='votearrow' title='upvote'></div></a></center></td><td class=\"title\"><span class=\"titleline\"><a href=\"https://blog.aquasec.com/kubernetes-exposed-one-yaml-away-from-disaster\" rel=\"noreferrer\">Kubernetes Exposed: One YAML Away from Disaster</a><span class=\"sitebit comhead\"> (<a href=\"from?site=aquasec.com\"><span class=\"sitestr\">aquasec.com</span></a>)</span></span></td></tr><tr><td colspan=\"2\"></td><td class=\"subtext\"><span class=\"subline\">\n",
            "          <span class=\"score\" id=\"score_37053250\">133 points</span> by <a href=\"user?id=consumer451\" class=\"hnuser\">consumer451</a> <span class=\"age\" title=\"2023-08-08T18:15:33\"><a href=\"item?id=37053250\">7 hours ago</a></span> <span id=\"unv_37053250\"></span> | <a href=\"hide?id=37053250&amp;goto=news\">hide</a> | <a href=\"item?id=37053250\">93&nbsp;comments</a>        </span>\n",
            "              </td></tr>\n",
            "      <tr class=\"spacer\" style=\"height:5px\"></tr>\n",
            "                <tr class='athing' id='37053405'>\n",
            "      <td align=\"right\" valign=\"top\" class=\"title\"><span class=\"rank\">23.</span></td>      <td valign=\"top\" class=\"votelinks\"><center><a id='up_37053405'href='vote?id=37053405&amp;how=up&amp;goto=news'><div class='votearrow' title='upvote'></div></a></center></td><td class=\"title\"><span class=\"titleline\"><a href=\"https://www.growbyginkgo.com/2023/07/11/reimagining-the-bioreactor/\" rel=\"noreferrer\">Reimagining the Bioreactor</a><span class=\"sitebit comhead\"> (<a href=\"from?site=growbyginkgo.com\"><span class=\"sitestr\">growbyginkgo.com</span></a>)</span></span></td></tr><tr><td colspan=\"2\"></td><td class=\"subtext\"><span class=\"subline\">\n",
            "          <span class=\"score\" id=\"score_37053405\">14 points</span> by <a href=\"user?id=arbesman\" class=\"hnuser\">arbesman</a> <span class=\"age\" title=\"2023-08-08T18:25:52\"><a href=\"item?id=37053405\">3 hours ago</a></span> <span id=\"unv_37053405\"></span> | <a href=\"hide?id=37053405&amp;goto=news\">hide</a> | <a href=\"item?id=37053405\">2&nbsp;comments</a>        </span>\n",
            "              </td></tr>\n",
            "      <tr class=\"spacer\" style=\"height:5px\"></tr>\n",
            "                <tr class='athing' id='37054374'>\n",
            "      <td align=\"right\" valign=\"top\" class=\"title\"><span class=\"rank\">24.</span></td>      <td valign=\"top\" class=\"votelinks\"><center><a id='up_37054374'href='vote?id=37054374&amp;how=up&amp;goto=news'><div class='votearrow' title='upvote'></div></a></center></td><td class=\"title\"><span class=\"titleline\"><a href=\"https://www.easyful.com/\" rel=\"noreferrer\">Show HN: Easyful – A Free Gumroad Alternative</a><span class=\"sitebit comhead\"> (<a href=\"from?site=easyful.com\"><span class=\"sitestr\">easyful.com</span></a>)</span></span></td></tr><tr><td colspan=\"2\"></td><td class=\"subtext\"><span class=\"subline\">\n",
            "          <span class=\"score\" id=\"score_37054374\">92 points</span> by <a href=\"user?id=jhartist\" class=\"hnuser\">jhartist</a> <span class=\"age\" title=\"2023-08-08T19:36:36\"><a href=\"item?id=37054374\">6 hours ago</a></span> <span id=\"unv_37054374\"></span> | <a href=\"hide?id=37054374&amp;goto=news\">hide</a> | <a href=\"item?id=37054374\">41&nbsp;comments</a>        </span>\n",
            "              </td></tr>\n",
            "      <tr class=\"spacer\" style=\"height:5px\"></tr>\n",
            "                <tr class='athing' id='37048758'>\n",
            "      <td align=\"right\" valign=\"top\" class=\"title\"><span class=\"rank\">25.</span></td>      <td valign=\"top\" class=\"votelinks\"><center><a id='up_37048758'href='vote?id=37048758&amp;how=up&amp;goto=news'><div class='votearrow' title='upvote'></div></a></center></td><td class=\"title\"><span class=\"titleline\"><a href=\"item?id=37048758\">Launch HN: Stellar Sleep (YC S23) – An app that helps people with insomnia</a></span></td></tr><tr><td colspan=\"2\"></td><td class=\"subtext\"><span class=\"subline\">\n",
            "          <span class=\"score\" id=\"score_37048758\">88 points</span> by <a href=\"user?id=edreichua\" class=\"hnuser\">edreichua</a> <span class=\"age\" title=\"2023-08-08T13:35:10\"><a href=\"item?id=37048758\">12 hours ago</a></span> <span id=\"unv_37048758\"></span> | <a href=\"hide?id=37048758&amp;goto=news\">hide</a> | <a href=\"item?id=37048758\">89&nbsp;comments</a>        </span>\n",
            "              </td></tr>\n",
            "      <tr class=\"spacer\" style=\"height:5px\"></tr>\n",
            "                <tr class='athing' id='37053273'>\n",
            "      <td align=\"right\" valign=\"top\" class=\"title\"><span class=\"rank\">26.</span></td>      <td valign=\"top\" class=\"votelinks\"><center><a id='up_37053273'href='vote?id=37053273&amp;how=up&amp;goto=news'><div class='votearrow' title='upvote'></div></a></center></td><td class=\"title\"><span class=\"titleline\"><a href=\"https://blog.pypi.org/posts/2023-08-08-2fa-enforcement-for-new-users/\" rel=\"noreferrer\">PyPI Requires 2FA for New User Registrations</a><span class=\"sitebit comhead\"> (<a href=\"from?site=pypi.org\"><span class=\"sitestr\">pypi.org</span></a>)</span></span></td></tr><tr><td colspan=\"2\"></td><td class=\"subtext\"><span class=\"subline\">\n",
            "          <span class=\"score\" id=\"score_37053273\">65 points</span> by <a href=\"user?id=miketheman\" class=\"hnuser\">miketheman</a> <span class=\"age\" title=\"2023-08-08T18:17:16\"><a href=\"item?id=37053273\">7 hours ago</a></span> <span id=\"unv_37053273\"></span> | <a href=\"hide?id=37053273&amp;goto=news\">hide</a> | <a href=\"item?id=37053273\">26&nbsp;comments</a>        </span>\n",
            "              </td></tr>\n",
            "      <tr class=\"spacer\" style=\"height:5px\"></tr>\n",
            "                <tr class='athing' id='37054241'>\n",
            "      <td align=\"right\" valign=\"top\" class=\"title\"><span class=\"rank\">27.</span></td>      <td valign=\"top\" class=\"votelinks\"><center><a id='up_37054241'href='vote?id=37054241&amp;how=up&amp;goto=news'><div class='votearrow' title='upvote'></div></a></center></td><td class=\"title\"><span class=\"titleline\"><a href=\"https://chat.openai.com/share/f5341665-7f08-4fca-9639-04201363506e\" rel=\"noreferrer\">What happened in this GPT-3 conversation?</a><span class=\"sitebit comhead\"> (<a href=\"from?site=openai.com\"><span class=\"sitestr\">openai.com</span></a>)</span></span></td></tr><tr><td colspan=\"2\"></td><td class=\"subtext\"><span class=\"subline\">\n",
            "          <span class=\"score\" id=\"score_37054241\">477 points</span> by <a href=\"user?id=hersko\" class=\"hnuser\">hersko</a> <span class=\"age\" title=\"2023-08-08T19:27:19\"><a href=\"item?id=37054241\">6 hours ago</a></span> <span id=\"unv_37054241\"></span> | <a href=\"hide?id=37054241&amp;goto=news\">hide</a> | <a href=\"item?id=37054241\">216&nbsp;comments</a>        </span>\n",
            "              </td></tr>\n",
            "      <tr class=\"spacer\" style=\"height:5px\"></tr>\n",
            "                <tr class='athing' id='37054207'>\n",
            "      <td align=\"right\" valign=\"top\" class=\"title\"><span class=\"rank\">28.</span></td>      <td valign=\"top\" class=\"votelinks\"><center><a id='up_37054207'href='vote?id=37054207&amp;how=up&amp;goto=news'><div class='votearrow' title='upvote'></div></a></center></td><td class=\"title\"><span class=\"titleline\"><a href=\"https://hackernoon.com/are-implicit-operators-a-path-to-clean-code-or-a-buggy-nightmare\" rel=\"noreferrer\">Are Implicit Operators a Path to Clean Code or a Buggy Nightmare?</a><span class=\"sitebit comhead\"> (<a href=\"from?site=hackernoon.com\"><span class=\"sitestr\">hackernoon.com</span></a>)</span></span></td></tr><tr><td colspan=\"2\"></td><td class=\"subtext\"><span class=\"subline\">\n",
            "          <span class=\"score\" id=\"score_37054207\">9 points</span> by <a href=\"user?id=PaulHoule\" class=\"hnuser\">PaulHoule</a> <span class=\"age\" title=\"2023-08-08T19:24:40\"><a href=\"item?id=37054207\">2 hours ago</a></span> <span id=\"unv_37054207\"></span> | <a href=\"hide?id=37054207&amp;goto=news\">hide</a> | <a href=\"item?id=37054207\">1&nbsp;comment</a>        </span>\n",
            "              </td></tr>\n",
            "      <tr class=\"spacer\" style=\"height:5px\"></tr>\n",
            "                <tr class='athing' id='37052875'>\n",
            "      <td align=\"right\" valign=\"top\" class=\"title\"><span class=\"rank\">29.</span></td>      <td valign=\"top\" class=\"votelinks\"><center><a id='up_37052875'href='vote?id=37052875&amp;how=up&amp;goto=news'><div class='votearrow' title='upvote'></div></a></center></td><td class=\"title\"><span class=\"titleline\"><a href=\"https://chimeraos.org/\" rel=\"noreferrer\">ChimeraOS: Instantly turn any PC into a gaming console</a><span class=\"sitebit comhead\"> (<a href=\"from?site=chimeraos.org\"><span class=\"sitestr\">chimeraos.org</span></a>)</span></span></td></tr><tr><td colspan=\"2\"></td><td class=\"subtext\"><span class=\"subline\">\n",
            "          <span class=\"score\" id=\"score_37052875\">111 points</span> by <a href=\"user?id=kosasbest\" class=\"hnuser\">kosasbest</a> <span class=\"age\" title=\"2023-08-08T17:49:51\"><a href=\"item?id=37052875\">7 hours ago</a></span> <span id=\"unv_37052875\"></span> | <a href=\"hide?id=37052875&amp;goto=news\">hide</a> | <a href=\"item?id=37052875\">64&nbsp;comments</a>        </span>\n",
            "              </td></tr>\n",
            "      <tr class=\"spacer\" style=\"height:5px\"></tr>\n",
            "                <tr class='athing' id='37052508'>\n",
            "      <td align=\"right\" valign=\"top\" class=\"title\"><span class=\"rank\">30.</span></td>      <td valign=\"top\" class=\"votelinks\"><center><a id='up_37052508'href='vote?id=37052508&amp;how=up&amp;goto=news'><div class='votearrow' title='upvote'></div></a></center></td><td class=\"title\"><span class=\"titleline\"><a href=\"https://robins.one/notes/uninstall-the-nightowl-app-now.html\" rel=\"noreferrer\">Uninstall the NightOwl app</a><span class=\"sitebit comhead\"> (<a href=\"from?site=robins.one\"><span class=\"sitestr\">robins.one</span></a>)</span></span></td></tr><tr><td colspan=\"2\"></td><td class=\"subtext\"><span class=\"subline\">\n",
            "          <span class=\"score\" id=\"score_37052508\">836 points</span> by <a href=\"user?id=txr\" class=\"hnuser\">txr</a> <span class=\"age\" title=\"2023-08-08T17:23:00\"><a href=\"item?id=37052508\">8 hours ago</a></span> <span id=\"unv_37052508\"></span> | <a href=\"hide?id=37052508&amp;goto=news\">hide</a> | <a href=\"item?id=37052508\">184&nbsp;comments</a>        </span>\n",
            "              </td></tr>\n",
            "      <tr class=\"spacer\" style=\"height:5px\"></tr>\n",
            "            <tr class=\"morespace\" style=\"height:10px\"></tr><tr><td colspan=\"2\"></td>\n",
            "      <td class='title'><a href='?p=2' class='morelink' rel='next'>More</a></td>    </tr>\n",
            "  </table>\n",
            "</td></tr>\n",
            "<tr><td><img src=\"s.gif\" height=\"10\" width=\"0\"><table width=\"100%\" cellspacing=\"0\" cellpadding=\"1\"><tr><td bgcolor=\"#ff6600\"></td></tr></table><br>\n",
            "<center><span class=\"yclinks\"><a href=\"newsguidelines.html\">Guidelines</a> | <a href=\"newsfaq.html\">FAQ</a> | <a href=\"lists\">Lists</a> | <a href=\"https://github.com/HackerNews/API\">API</a> | <a href=\"security.html\">Security</a> | <a href=\"https://www.ycombinator.com/legal/\">Legal</a> | <a href=\"https://www.ycombinator.com/apply/\">Apply to YC</a> | <a href=\"mailto:hn@ycombinator.com\">Contact</a></span><br><br>\n",
            "<form method=\"get\" action=\"//hn.algolia.com/\">Search: <input type=\"text\" name=\"q\" size=\"17\" autocorrect=\"off\" spellcheck=\"false\" autocapitalize=\"off\" autocomplete=\"false\"></form></center></td></tr>      </table></center></body>\n",
            "      <script type='text/javascript' src='hn.js?CtBHyqNFP5b5B4B6W5uN'></script>\n",
            "  </html>\n",
            "\n"
          ]
        }
      ]
    },
    {
      "cell_type": "code",
      "source": [
        "import re\n",
        "\n",
        "# Remove HTML tags using RegEx\n",
        "pattern = re.compile(r'<.*?>')  # tags look like <...>\n",
        "print(pattern.sub('', r.text))  # replace them with blank"
      ],
      "metadata": {
        "id": "NOrYm7zD7UIm"
      },
      "execution_count": null,
      "outputs": []
    },
    {
      "cell_type": "code",
      "source": [
        "from bs4 import BeautifulSoup\n",
        "\n",
        "# Remove HTML tags using Beautiful Soup library\n",
        "soup = BeautifulSoup(r.text, \"html5lib\")\n",
        "print(soup.get_text())"
      ],
      "metadata": {
        "id": "Jyfc7-Qg8DOa"
      },
      "execution_count": null,
      "outputs": []
    },
    {
      "cell_type": "code",
      "source": [
        "# Find all articles\n",
        "summaries = soup.find_all(\"tr\", class_=\"athing\")\n",
        "summaries[0]"
      ],
      "metadata": {
        "colab": {
          "base_uri": "https://localhost:8080/"
        },
        "id": "qks8gcZf8S6n",
        "outputId": "244af2cd-906d-4050-a72d-825603a321a5"
      },
      "execution_count": null,
      "outputs": [
        {
          "output_type": "execute_result",
          "data": {
            "text/plain": [
              "<tr class=\"athing\" id=\"37052586\">\n",
              "      <td align=\"right\" class=\"title\" valign=\"top\"><span class=\"rank\">1.</span></td>      <td class=\"votelinks\" valign=\"top\"><center><a href=\"vote?id=37052586&amp;how=up&amp;goto=news\" id=\"up_37052586\"><div class=\"votearrow\" title=\"upvote\"></div></a></center></td><td class=\"title\"><span class=\"titleline\"><a href=\"https://downfall.page/\" rel=\"noreferrer\">Downfall Attacks</a><span class=\"sitebit comhead\"> (<a href=\"from?site=downfall.page\"><span class=\"sitestr\">downfall.page</span></a>)</span></span></td></tr>"
            ]
          },
          "metadata": {},
          "execution_count": 92
        }
      ]
    },
    {
      "cell_type": "code",
      "source": [
        "# Extract title\n",
        "summaries[0].find(\"span\", class_=\"sitestr\").get_text().strip()"
      ],
      "metadata": {
        "colab": {
          "base_uri": "https://localhost:8080/",
          "height": 35
        },
        "id": "px5DDrJI8vp4",
        "outputId": "4c8924ab-05f8-47f4-94c1-44c4318e7704"
      },
      "execution_count": null,
      "outputs": [
        {
          "output_type": "execute_result",
          "data": {
            "text/plain": [
              "'downfall.page'"
            ],
            "application/vnd.google.colaboratory.intrinsic+json": {
              "type": "string"
            }
          },
          "metadata": {},
          "execution_count": 94
        }
      ]
    },
    {
      "cell_type": "code",
      "source": [
        "# Find all articles, extract titles\n",
        "articles = []\n",
        "summaries = soup.find_all(\"tr\", class_=\"athing\")\n",
        "for summary in summaries:\n",
        "    title = summary.find(\"a\").get_text().strip()\n",
        "    articles.append((title))\n",
        "\n",
        "print(len(articles), \"Article summaries found. Sample:\")\n",
        "print(articles[0:30])"
      ],
      "metadata": {
        "colab": {
          "base_uri": "https://localhost:8080/"
        },
        "id": "ynyWitM8-mB6",
        "outputId": "53c1990a-789d-410c-c913-e0b7a143c468"
      },
      "execution_count": null,
      "outputs": [
        {
          "output_type": "stream",
          "name": "stdout",
          "text": [
            "30 Article summaries found. Sample:\n",
            "['', '', '', '', '', '', '', '', '', '', '', '', '', '', 'Aviator (YC S21) is hiring engineers to build dev productivity platform', '', '', '', '', '', '', '', '', '', '', '', '', '', '', '']\n"
          ]
        }
      ]
    },
    {
      "cell_type": "markdown",
      "source": [
        "# Normalization\n",
        "## Case Normalization"
      ],
      "metadata": {
        "id": "cwkcOJdL_1ln"
      }
    },
    {
      "cell_type": "code",
      "source": [
        "# Sample text\n",
        "text = \"The first time you see The Second Renaissance it may look boring. Look at it at least twice and definitely watch part 2. It will change your view of the matrix. Are the human people the ones who started the war ? Is AI a bad thing ?\"\n",
        "print(text)"
      ],
      "metadata": {
        "colab": {
          "base_uri": "https://localhost:8080/"
        },
        "id": "YbDVD_-x_7pW",
        "outputId": "37e83b8e-1a94-44ec-8023-dd76f30123de"
      },
      "execution_count": null,
      "outputs": [
        {
          "output_type": "stream",
          "name": "stdout",
          "text": [
            "The first time you see The Second Renaissance it may look boring. Look at it at least twice and definitely watch part 2. It will change your view of the matrix. Are the human people the ones who started the war ? Is AI a bad thing ?\n"
          ]
        }
      ]
    },
    {
      "cell_type": "code",
      "source": [
        "# Convert to lowercase\n",
        "text = text.lower()\n",
        "print(text)"
      ],
      "metadata": {
        "colab": {
          "base_uri": "https://localhost:8080/"
        },
        "id": "SpifIBUFAC7I",
        "outputId": "5879505a-e720-4217-fbc8-06f34a269f8a"
      },
      "execution_count": null,
      "outputs": [
        {
          "output_type": "stream",
          "name": "stdout",
          "text": [
            "the first time you see the second renaissance it may look boring. look at it at least twice and definitely watch part 2. it will change your view of the matrix. are the human people the ones who started the war ? is ai a bad thing ?\n"
          ]
        }
      ]
    },
    {
      "cell_type": "code",
      "source": [
        "import re\n",
        "\n",
        "# Remove punctuation characters\n",
        "text = re.sub(r\"[^a-zA-Z0-9]\", \" \", text)\n",
        "print(text)"
      ],
      "metadata": {
        "colab": {
          "base_uri": "https://localhost:8080/"
        },
        "id": "zfuKA7DOAHsK",
        "outputId": "996a9b12-9e01-4712-f3c1-623f87c408ed"
      },
      "execution_count": null,
      "outputs": [
        {
          "output_type": "stream",
          "name": "stdout",
          "text": [
            "the first time you see the second renaissance it may look boring  look at it at least twice and definitely watch part 2  it will change your view of the matrix  are the human people the ones who started the war   is ai a bad thing  \n"
          ]
        }
      ]
    },
    {
      "cell_type": "markdown",
      "source": [
        "# Tokenization"
      ],
      "metadata": {
        "id": "EpJwOORWAVk6"
      }
    },
    {
      "cell_type": "code",
      "source": [
        "# Split text into tokens (words)\n",
        "words = text.split()\n",
        "print(words)"
      ],
      "metadata": {
        "colab": {
          "base_uri": "https://localhost:8080/"
        },
        "id": "_9bYJqEBAZ1i",
        "outputId": "68e65ed7-95f5-48c4-abf1-f3cf83cff032"
      },
      "execution_count": null,
      "outputs": [
        {
          "output_type": "stream",
          "name": "stdout",
          "text": [
            "['the', 'first', 'time', 'you', 'see', 'the', 'second', 'renaissance', 'it', 'may', 'look', 'boring', 'look', 'at', 'it', 'at', 'least', 'twice', 'and', 'definitely', 'watch', 'part', '2', 'it', 'will', 'change', 'your', 'view', 'of', 'the', 'matrix', 'are', 'the', 'human', 'people', 'the', 'ones', 'who', 'started', 'the', 'war', 'is', 'ai', 'a', 'bad', 'thing']\n"
          ]
        }
      ]
    },
    {
      "cell_type": "markdown",
      "source": [
        "# NLTK: Natural Language ToolKit"
      ],
      "metadata": {
        "id": "Iqg67XkAAfHn"
      }
    },
    {
      "cell_type": "code",
      "source": [
        "import os\n",
        "import nltk\n",
        "nltk.data.path.append(\"/content/drive/MyDrive/Udacity-Natural-Language-Processing-Nanodegree-master/1. Tutorial Text Processing/nltk_data\")"
      ],
      "metadata": {
        "id": "w1i2RDRqAj4Y"
      },
      "execution_count": null,
      "outputs": []
    },
    {
      "cell_type": "code",
      "source": [
        "# Another sample text\n",
        "text1 = \"Dr. Smith graduated from the University of Washington. He later started an analytics firm called Lux, which catered to enterprise customers.\"\n",
        "text = \"دأت فكرة مطاعم الرومانسية‌ ‌بتطوير‌ ‌مفهوم الأكل الشعبي الأصيل‌ ‌،‌ ‌ونقله من بين جدران البيوت‌ ‌بنفس الوصفة الأصلية وبجودة عالية‌ ‌، تبدأ من اختيار المواد واحتراف تجهيزها وإتقان الطهي وفنّ‌ ‌التقديم‌ ‌،‌ ‌لتنتهي كوجبة متكاملة بين يديك‌‍‌ ولم تعدمطاعم الرومانسية اليوم مجرد مطابخ لإعداد الأكل الشعبي الأصيل، أو مكان للقاءات الاجتماعية، بل أضحت فوق هذا كله بيئةً للإبداع والابتكار، ومكانًا يدمج بين أصالة الطعام وعصرية المكان واحترافية الأداء، وخدمة فائقة من جميع طاقم العمل.\"\n",
        "print(text)"
      ],
      "metadata": {
        "colab": {
          "base_uri": "https://localhost:8080/"
        },
        "id": "DkKk__WBAns9",
        "outputId": "868c2808-f3b3-4320-8895-9214b0752b70"
      },
      "execution_count": null,
      "outputs": [
        {
          "output_type": "stream",
          "name": "stdout",
          "text": [
            "دأت فكرة مطاعم الرومانسية‌ ‌بتطوير‌ ‌مفهوم الأكل الشعبي الأصيل‌ ‌،‌ ‌ونقله من بين جدران البيوت‌ ‌بنفس الوصفة الأصلية وبجودة عالية‌ ‌، تبدأ من اختيار المواد واحتراف تجهيزها وإتقان الطهي وفنّ‌ ‌التقديم‌ ‌،‌ ‌لتنتهي كوجبة متكاملة بين يديك‌‍‌ ولم تعدمطاعم الرومانسية اليوم مجرد مطابخ لإعداد الأكل الشعبي الأصيل، أو مكان للقاءات الاجتماعية، بل أضحت فوق هذا كله بيئةً للإبداع والابتكار، ومكانًا يدمج بين أصالة الطعام وعصرية المكان واحترافية الأداء، وخدمة فائقة من جميع طاقم العمل.\n"
          ]
        }
      ]
    },
    {
      "cell_type": "code",
      "source": [
        "from nltk.tokenize import word_tokenize\n",
        "\n",
        "# Split text into words using NLTK\n",
        "words = word_tokenize(text)\n",
        "print(words)"
      ],
      "metadata": {
        "colab": {
          "base_uri": "https://localhost:8080/"
        },
        "id": "pbq2eOntAx13",
        "outputId": "6319ab0c-a98a-48fd-efaa-7035caa3d1b9"
      },
      "execution_count": null,
      "outputs": [
        {
          "output_type": "stream",
          "name": "stdout",
          "text": [
            "['دأت', 'فكرة', 'مطاعم', 'الرومانسية\\u200c', '\\u200cبتطوير\\u200c', '\\u200cمفهوم', 'الأكل', 'الشعبي', 'الأصيل\\u200c', '\\u200c،\\u200c', '\\u200cونقله', 'من', 'بين', 'جدران', 'البيوت\\u200c', '\\u200cبنفس', 'الوصفة', 'الأصلية', 'وبجودة', 'عالية\\u200c', '\\u200c،', 'تبدأ', 'من', 'اختيار', 'المواد', 'واحتراف', 'تجهيزها', 'وإتقان', 'الطهي', 'وفنّ\\u200c', '\\u200cالتقديم\\u200c', '\\u200c،\\u200c', '\\u200cلتنتهي', 'كوجبة', 'متكاملة', 'بين', 'يديك\\u200c\\u200d\\u200c', 'ولم', 'تعدمطاعم', 'الرومانسية', 'اليوم', 'مجرد', 'مطابخ', 'لإعداد', 'الأكل', 'الشعبي', 'الأصيل،', 'أو', 'مكان', 'للقاءات', 'الاجتماعية،', 'بل', 'أضحت', 'فوق', 'هذا', 'كله', 'بيئةً', 'للإبداع', 'والابتكار،', 'ومكانًا', 'يدمج', 'بين', 'أصالة', 'الطعام', 'وعصرية', 'المكان', 'واحترافية', 'الأداء،', 'وخدمة', 'فائقة', 'من', 'جميع', 'طاقم', 'العمل', '.']\n"
          ]
        }
      ]
    },
    {
      "cell_type": "code",
      "source": [
        "# List stop words\n",
        "from nltk.corpus import stopwords\n",
        "print(stopwords.words(\"english\"))"
      ],
      "metadata": {
        "colab": {
          "base_uri": "https://localhost:8080/"
        },
        "id": "EAPHSKIcB5uv",
        "outputId": "417dba73-6a51-4409-d26e-7653a7f3da27"
      },
      "execution_count": null,
      "outputs": [
        {
          "output_type": "stream",
          "name": "stdout",
          "text": [
            "['i', 'me', 'my', 'myself', 'we', 'our', 'ours', 'ourselves', 'you', \"you're\", \"you've\", \"you'll\", \"you'd\", 'your', 'yours', 'yourself', 'yourselves', 'he', 'him', 'his', 'himself', 'she', \"she's\", 'her', 'hers', 'herself', 'it', \"it's\", 'its', 'itself', 'they', 'them', 'their', 'theirs', 'themselves', 'what', 'which', 'who', 'whom', 'this', 'that', \"that'll\", 'these', 'those', 'am', 'is', 'are', 'was', 'were', 'be', 'been', 'being', 'have', 'has', 'had', 'having', 'do', 'does', 'did', 'doing', 'a', 'an', 'the', 'and', 'but', 'if', 'or', 'because', 'as', 'until', 'while', 'of', 'at', 'by', 'for', 'with', 'about', 'against', 'between', 'into', 'through', 'during', 'before', 'after', 'above', 'below', 'to', 'from', 'up', 'down', 'in', 'out', 'on', 'off', 'over', 'under', 'again', 'further', 'then', 'once', 'here', 'there', 'when', 'where', 'why', 'how', 'all', 'any', 'both', 'each', 'few', 'more', 'most', 'other', 'some', 'such', 'no', 'nor', 'not', 'only', 'own', 'same', 'so', 'than', 'too', 'very', 's', 't', 'can', 'will', 'just', 'don', \"don't\", 'should', \"should've\", 'now', 'd', 'll', 'm', 'o', 're', 've', 'y', 'ain', 'aren', \"aren't\", 'couldn', \"couldn't\", 'didn', \"didn't\", 'doesn', \"doesn't\", 'hadn', \"hadn't\", 'hasn', \"hasn't\", 'haven', \"haven't\", 'isn', \"isn't\", 'ma', 'mightn', \"mightn't\", 'mustn', \"mustn't\", 'needn', \"needn't\", 'shan', \"shan't\", 'shouldn', \"shouldn't\", 'wasn', \"wasn't\", 'weren', \"weren't\", 'won', \"won't\", 'wouldn', \"wouldn't\"]\n"
          ]
        }
      ]
    },
    {
      "cell_type": "code",
      "source": [
        "# Reset text\n",
        "text1 = \"The first time you see The Second Renaissance it may look boring. Look at it at least twice and definitely watch part 2. It will change your view of the matrix. Are the human people the ones who started the war ? Is AI a bad thing ?\"\n",
        "text = \"دأت فكرة مطاعم الرومانسية‌ ‌بتطوير‌ ‌مفهوم الأكل الشعبي الأصيل‌ ‌،‌ ‌ونقله من بين جدران البيوت‌ ‌بنفس الوصفة الأصلية وبجودة عالية‌ ‌، تبدأ من اختيار المواد واحتراف تجهيزها وإتقان الطهي وفنّ‌ ‌التقديم‌ ‌،‌ ‌لتنتهي كوجبة متكاملة بين يديك‌‍‌ ولم تعدمطاعم الرومانسية اليوم مجرد مطابخ لإعداد الأكل الشعبي الأصيل، أو مكان للقاءات الاجتماعية، بل أضحت فوق هذا كله بيئةً للإبداع والابتكار، ومكانًا يدمج بين أصالة الطعام وعصرية المكان واحترافية الأداء، وخدمة فائقة من جميع طاقم العمل.\"\n",
        "\n",
        "# Normalize it\n",
        "text = re.sub(r\"[^a-zA-Z0-9]\", \" \", text1.lower())\n",
        "text1 = re.sub(r\"[^أ-ي0-9]\", \" \", text.lower())\n",
        "# Tokenize it\n",
        "words = text.split()\n",
        "print(words)"
      ],
      "metadata": {
        "colab": {
          "base_uri": "https://localhost:8080/"
        },
        "id": "UQB2vIQtCyRC",
        "outputId": "5ea86230-686c-4843-dfd5-f7c290e1914f"
      },
      "execution_count": null,
      "outputs": [
        {
          "output_type": "stream",
          "name": "stdout",
          "text": [
            "['the', 'first', 'time', 'you', 'see', 'the', 'second', 'renaissance', 'it', 'may', 'look', 'boring', 'look', 'at', 'it', 'at', 'least', 'twice', 'and', 'definitely', 'watch', 'part', '2', 'it', 'will', 'change', 'your', 'view', 'of', 'the', 'matrix', 'are', 'the', 'human', 'people', 'the', 'ones', 'who', 'started', 'the', 'war', 'is', 'ai', 'a', 'bad', 'thing']\n"
          ]
        }
      ]
    },
    {
      "cell_type": "code",
      "source": [
        "# Remove stop words\n",
        "words = [w for w in words if w not in stopwords.words(\"english\")]\n",
        "print(words)"
      ],
      "metadata": {
        "colab": {
          "base_uri": "https://localhost:8080/"
        },
        "id": "P-VMZBifDAoy",
        "outputId": "556e0e24-9fd6-4276-d3a3-df703d090543"
      },
      "execution_count": null,
      "outputs": [
        {
          "output_type": "stream",
          "name": "stdout",
          "text": [
            "['first', 'time', 'see', 'second', 'renaissance', 'may', 'look', 'boring', 'look', 'least', 'twice', 'definitely', 'watch', 'part', '2', 'change', 'view', 'matrix', 'human', 'people', 'ones', 'started', 'war', 'ai', 'bad', 'thing']\n"
          ]
        }
      ]
    },
    {
      "cell_type": "markdown",
      "source": [
        "# Sentence Parsing"
      ],
      "metadata": {
        "id": "HkGZh6UUDKA2"
      }
    },
    {
      "cell_type": "code",
      "source": [
        "import nltk\n",
        "\n",
        "# Define a custom grammar\n",
        "my_grammar = nltk.CFG.fromstring(\"\"\"\n",
        "S -> NP VP\n",
        "PP -> P NP\n",
        "NP -> Det N | Det N PP | 'I'\n",
        "VP -> V NP | VP PP\n",
        "Det -> 'an' | 'my'\n",
        "N -> 'elephant' | 'pajamas'\n",
        "V -> 'shot'\n",
        "P -> 'in'\n",
        "\"\"\")\n",
        "parser = nltk.ChartParser(my_grammar)\n",
        "\n",
        "# Parse a sentence\n",
        "sentence = word_tokenize(\"I shot an elephant in my pajamas\")\n",
        "for tree in parser.parse(sentence):\n",
        "    print(tree)"
      ],
      "metadata": {
        "colab": {
          "base_uri": "https://localhost:8080/"
        },
        "id": "nGv1H0_mDJKy",
        "outputId": "c3aefc5b-bf0a-4382-8439-1fe9b32bd87b"
      },
      "execution_count": null,
      "outputs": [
        {
          "output_type": "stream",
          "name": "stdout",
          "text": [
            "(S\n",
            "  (NP I)\n",
            "  (VP\n",
            "    (VP (V shot) (NP (Det an) (N elephant)))\n",
            "    (PP (P in) (NP (Det my) (N pajamas)))))\n",
            "(S\n",
            "  (NP I)\n",
            "  (VP\n",
            "    (V shot)\n",
            "    (NP (Det an) (N elephant) (PP (P in) (NP (Det my) (N pajamas))))))\n"
          ]
        }
      ]
    },
    {
      "cell_type": "markdown",
      "source": [
        "# Stemming & Lemmatization\n",
        "## Stemming"
      ],
      "metadata": {
        "id": "wb_YsBV6Doxg"
      }
    },
    {
      "cell_type": "code",
      "source": [
        "from nltk.stem.porter import PorterStemmer\n",
        "\n",
        "# Reduce words to their stems\n",
        "stemmed = [PorterStemmer().stem(w) for w in words]\n",
        "print(stemmed)"
      ],
      "metadata": {
        "colab": {
          "base_uri": "https://localhost:8080/"
        },
        "id": "xit-edNGDsGN",
        "outputId": "5f1b8c72-8e2a-4659-af88-76b4a5776743"
      },
      "execution_count": null,
      "outputs": [
        {
          "output_type": "stream",
          "name": "stdout",
          "text": [
            "['first', 'time', 'see', 'second', 'renaiss', 'may', 'look', 'bore', 'look', 'least', 'twice', 'definit', 'watch', 'part', '2', 'chang', 'view', 'matrix', 'human', 'peopl', 'one', 'start', 'war', 'ai', 'bad', 'thing']\n"
          ]
        }
      ]
    },
    {
      "cell_type": "markdown",
      "source": [
        "## Lemmatization"
      ],
      "metadata": {
        "id": "7Qwm83RwEY84"
      }
    },
    {
      "cell_type": "code",
      "source": [
        "from nltk.stem.wordnet import WordNetLemmatizer\n",
        "\n",
        "# Reduce words to their root form\n",
        "lemmed = [WordNetLemmatizer().lemmatize(w) for w in words]\n",
        "print(lemmed)"
      ],
      "metadata": {
        "colab": {
          "base_uri": "https://localhost:8080/"
        },
        "id": "xNXsxrGAEcEX",
        "outputId": "ba618dc6-dc3f-4150-9367-3adbdc08851a"
      },
      "execution_count": null,
      "outputs": [
        {
          "output_type": "stream",
          "name": "stdout",
          "text": [
            "['first', 'time', 'see', 'second', 'renaissance', 'may', 'look', 'boring', 'look', 'least', 'twice', 'definitely', 'watch', 'part', '2', 'change', 'view', 'matrix', 'human', 'people', 'one', 'started', 'war', 'ai', 'bad', 'thing']\n"
          ]
        }
      ]
    },
    {
      "cell_type": "code",
      "source": [
        "# Lemmatize verbs by specifying pos\n",
        "lemmed = [WordNetLemmatizer().lemmatize(w, pos='v') for w in lemmed]\n",
        "print(lemmed)"
      ],
      "metadata": {
        "colab": {
          "base_uri": "https://localhost:8080/"
        },
        "id": "E4vOQ9DhE8U4",
        "outputId": "aa1a5531-122d-4aa5-efd1-1ea2d154da2a"
      },
      "execution_count": null,
      "outputs": [
        {
          "output_type": "stream",
          "name": "stdout",
          "text": [
            "['first', 'time', 'see', 'second', 'renaissance', 'may', 'look', 'bore', 'look', 'least', 'twice', 'definitely', 'watch', 'part', '2', 'change', 'view', 'matrix', 'human', 'people', 'one', 'start', 'war', 'ai', 'bad', 'thing']\n"
          ]
        }
      ]
    }
  ]
}